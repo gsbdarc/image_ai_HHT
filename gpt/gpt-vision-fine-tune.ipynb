{
 "cells": [
  {
   "cell_type": "markdown",
   "id": "201c9cac-48f3-4d3d-ac18-7e6fe38700db",
   "metadata": {},
   "source": [
    "# Vision Fine-Tune GPT-4o"
   ]
  },
  {
   "cell_type": "code",
   "execution_count": 1,
   "id": "361da177-c73f-4968-9a3b-214b910a1fda",
   "metadata": {},
   "outputs": [],
   "source": [
    "from openai import OpenAI\n",
    "import os\n",
    "import json\n",
    "import pandas as pd\n",
    "import dotenv\n",
    "from dotenv import load_dotenv\n",
    "import gpt_utils"
   ]
  },
  {
   "cell_type": "code",
   "execution_count": 2,
   "id": "576f5e48-6554-456a-8b1a-aafd371a2f05",
   "metadata": {},
   "outputs": [],
   "source": [
    "dotenv.load_dotenv()\n",
    "api_key = os.environ[\"OPENAI_API_KEY\"]\n",
    "client = OpenAI()"
   ]
  },
  {
   "cell_type": "markdown",
   "id": "8a7404f7-abab-4fb7-b524-4facbff24d04",
   "metadata": {},
   "source": [
    "## Load data"
   ]
  },
  {
   "cell_type": "code",
   "execution_count": 3,
   "id": "931e2335-cce4-4103-b909-223d2b580f1f",
   "metadata": {},
   "outputs": [],
   "source": [
    "data_file = '/scratch/shared/image_ai_HHT_data/train.csv'"
   ]
  },
  {
   "cell_type": "code",
   "execution_count": 4,
   "id": "bd0946c7-b12e-43a1-9c98-d044ac01a5fb",
   "metadata": {},
   "outputs": [],
   "source": [
    "df = pd.read_csv(data_file, usecols=['image', 'Class', 'Class Name'])"
   ]
  },
  {
   "cell_type": "code",
   "execution_count": 5,
   "id": "4aa010a4-1266-4402-ade2-712c3556d716",
   "metadata": {},
   "outputs": [],
   "source": [
    "image_dir = '/scratch/shared/image_ai_HHT_data/images/'"
   ]
  },
  {
   "cell_type": "code",
   "execution_count": 6,
   "id": "e40f380c-5494-4882-a617-a43eaa5aabd6",
   "metadata": {},
   "outputs": [],
   "source": [
    "# Add image path column\n",
    "df['image_path'] = image_dir + df['image']"
   ]
  },
  {
   "cell_type": "markdown",
   "id": "1688434d-9c75-4c00-abc3-fdf8d13b1fb8",
   "metadata": {},
   "source": [
    "### Prepare train, validation files"
   ]
  },
  {
   "cell_type": "code",
   "execution_count": 7,
   "id": "8cd4244f-f65d-4cab-9689-0a7da1af04e1",
   "metadata": {
    "scrolled": true
   },
   "outputs": [
    {
     "name": "stdout",
     "output_type": "stream",
     "text": [
      "Warning: Not enough images for class 2006. Required: 35, Available: 32\n",
      "Warning: Not enough images for class 2002. Required: 35, Available: 31\n",
      "Warning: Not enough images for class 1999. Required: 35, Available: 31\n",
      "Warning: Not enough images for class 1997. Required: 35, Available: 31\n",
      "Warning: Not enough images for class 1991. Required: 35, Available: 32\n",
      "Warning: Not enough images for class 2000. Required: 35, Available: 32\n"
     ]
    },
    {
     "name": "stderr",
     "output_type": "stream",
     "text": [
      "Writing to data/fine-tune/train.jsonl: 100%|██████████| 228/228 [00:00<00:00, 2083.01it/s]\n"
     ]
    },
    {
     "name": "stdout",
     "output_type": "stream",
     "text": [
      "Created data/fine-tune/train.jsonl with 228 examples.\n",
      "Saved image paths to data/fine-tune/train_image_paths.txt\n"
     ]
    },
    {
     "name": "stderr",
     "output_type": "stream",
     "text": [
      "Writing to data/fine-tune/val.jsonl: 100%|██████████| 151/151 [00:00<00:00, 1583.21it/s]\n"
     ]
    },
    {
     "name": "stdout",
     "output_type": "stream",
     "text": [
      "Created data/fine-tune/val.jsonl with 151 examples.\n",
      "Saved image paths to data/fine-tune/val_image_paths.txt\n"
     ]
    }
   ],
   "source": [
    "gpt_utils.prepare_ft_data(df)"
   ]
  },
  {
   "cell_type": "markdown",
   "id": "b3d35bc8-325a-436c-a305-6cf48b9f5ac4",
   "metadata": {},
   "source": [
    "## Fine-Tune"
   ]
  },
  {
   "cell_type": "code",
   "execution_count": 8,
   "id": "489e4d53-7c1c-4aa2-b3d9-e89e430b0c65",
   "metadata": {},
   "outputs": [],
   "source": [
    "model = \"gpt-4o-2024-08-06\""
   ]
  },
  {
   "cell_type": "code",
   "execution_count": 9,
   "id": "61ae8c89-7dd6-4745-99ee-83497bc84538",
   "metadata": {},
   "outputs": [],
   "source": [
    "jsonl_train_file = 'data/fine-tune/train.jsonl'\n",
    "jsonl_val_file = 'data/fine-tune/val.jsonl'"
   ]
  },
  {
   "cell_type": "code",
   "execution_count": 10,
   "id": "247fe7e5-cad3-427f-8233-b2c1a15677a9",
   "metadata": {},
   "outputs": [],
   "source": [
    "train_file = client.files.create(\n",
    "  file=open(jsonl_train_file, \"rb\"),\n",
    "  purpose=\"fine-tune\"\n",
    ")"
   ]
  },
  {
   "cell_type": "code",
   "execution_count": 11,
   "id": "7101f3c5-9b9d-4e1b-b04f-6912ba3d2d5b",
   "metadata": {},
   "outputs": [],
   "source": [
    "val_file = client.files.create(\n",
    "  file=open(jsonl_val_file, \"rb\"),\n",
    "  purpose=\"fine-tune\"\n",
    ")"
   ]
  },
  {
   "cell_type": "markdown",
   "id": "a0493c28-981a-4925-8a71-38957e48968c",
   "metadata": {},
   "source": [
    "See uploaded jsonl files at https://platform.openai.com/storage/files"
   ]
  },
  {
   "cell_type": "code",
   "execution_count": 12,
   "id": "28b596ec-3bfc-4c09-9594-f30a6e62e96b",
   "metadata": {},
   "outputs": [],
   "source": [
    "# Start fine-tuning job\n",
    "ft_job = client.fine_tuning.jobs.create(\n",
    "         training_file = train_file.id,\n",
    "         validation_file = val_file.id,\n",
    "         model = model\n",
    ")"
   ]
  },
  {
   "cell_type": "markdown",
   "id": "bbb3f051-b624-4242-88dd-aed2a71c7b37",
   "metadata": {},
   "source": [
    "## Predict using GPT-4o Model using Batches API\n",
    "\n",
    "First, run `create_test_jsonl_base.py`."
   ]
  },
  {
   "cell_type": "code",
   "execution_count": 13,
   "id": "e5405d81-db28-431c-97fd-bf0966fd3fa1",
   "metadata": {},
   "outputs": [],
   "source": [
    "test_file = 'data/fine-tune/test_base_model.jsonl'"
   ]
  },
  {
   "cell_type": "code",
   "execution_count": 14,
   "id": "4c2c4a7a-bc4d-4bea-8807-18d5e6bb4015",
   "metadata": {},
   "outputs": [],
   "source": [
    "batch_input_file = client.files.create(\n",
    "  file=open(test_file, \"rb\"),\n",
    "  purpose=\"batch\"\n",
    ")"
   ]
  },
  {
   "cell_type": "markdown",
   "id": "0661b976-fdab-46be-ba68-605b3d34f9ba",
   "metadata": {},
   "source": [
    "See uploaded jsonl files at https://platform.openai.com/storage/files"
   ]
  },
  {
   "cell_type": "code",
   "execution_count": 15,
   "id": "24b94137-ad4e-4de0-8058-3f02b3afbaf4",
   "metadata": {},
   "outputs": [],
   "source": [
    "response = client.batches.create(\n",
    "            input_file_id = batch_input_file.id,\n",
    "            endpoint = \"/v1/chat/completions\",\n",
    "            completion_window = \"24h\",\n",
    "            metadata = {\n",
    "              \"description\": f\"Image label prediction for test set using the base model\"\n",
    "                })"
   ]
  },
  {
   "cell_type": "code",
   "execution_count": 16,
   "id": "f52fb07f-2949-4490-9e04-7ffed49db4f1",
   "metadata": {},
   "outputs": [
    {
     "name": "stdout",
     "output_type": "stream",
     "text": [
      "Saved batch ID 'batch_6727e70be9688190ae2bbe53b7e37e61' under key 'response_id_base_model_test_set'.\n"
     ]
    }
   ],
   "source": [
    "# Save the base model batch ID\n",
    "gpt_utils.save_batch_id(response.id, \"response_id_base_model_test_set\")"
   ]
  },
  {
   "cell_type": "markdown",
   "id": "9a3814bc-7c99-4eae-b53c-0f96b0e027e7",
   "metadata": {},
   "source": [
    "- After submitting to Batches API, go to https://platform.openai.com/batches\n",
    "- Wait until the batch is complete. Then get the responses."
   ]
  },
  {
   "cell_type": "code",
   "execution_count": 17,
   "id": "2672f128-67b6-4e7a-9ef2-f561d39b306b",
   "metadata": {},
   "outputs": [],
   "source": [
    "# Later, when you want to load the batch IDs:\n",
    "base_model_batch_id = gpt_utils.load_batch_id(\"response_id_base_model_test_set\")"
   ]
  },
  {
   "cell_type": "code",
   "execution_count": 18,
   "id": "65fe9605-ebcf-474b-bbd4-287f7909b49d",
   "metadata": {},
   "outputs": [
    {
     "name": "stdout",
     "output_type": "stream",
     "text": [
      "Base Model Batch ID: batch_6727e70be9688190ae2bbe53b7e37e61\n"
     ]
    }
   ],
   "source": [
    "print(f\"Base Model Batch ID: {base_model_batch_id}\")"
   ]
  },
  {
   "cell_type": "code",
   "execution_count": 19,
   "id": "b5b687e1-ef58-4e46-9e6c-3aca09c84626",
   "metadata": {},
   "outputs": [],
   "source": [
    "response_out = client.batches.retrieve(base_model_batch_id)"
   ]
  },
  {
   "cell_type": "code",
   "execution_count": 20,
   "id": "b8ab5a72-a0ff-4f5c-92e7-a295738f78b4",
   "metadata": {},
   "outputs": [
    {
     "data": {
      "text/plain": [
       "Batch(id='batch_6727e70be9688190ae2bbe53b7e37e61', completion_window='24h', created_at=1730668299, endpoint='/v1/chat/completions', input_file_id='file-trk17rq6HhS4FD2TIrPBc3KP', object='batch', status='completed', cancelled_at=None, cancelling_at=None, completed_at=1730668338, error_file_id=None, errors=None, expired_at=None, expires_at=1730754699, failed_at=None, finalizing_at=1730668329, in_progress_at=1730668301, metadata={'description': 'Image label prediction for test set using the base model'}, output_file_id='file-hg2saheYVF4zMmUGvHtEbLZu', request_counts=BatchRequestCounts(completed=160, failed=0, total=160))"
      ]
     },
     "execution_count": 20,
     "metadata": {},
     "output_type": "execute_result"
    }
   ],
   "source": [
    "response_out"
   ]
  },
  {
   "cell_type": "code",
   "execution_count": 21,
   "id": "359a88af-19ff-42ae-8bac-f8685870cbb9",
   "metadata": {},
   "outputs": [
    {
     "name": "stderr",
     "output_type": "stream",
     "text": [
      "/tmp/ipykernel_2949775/1498063636.py:1: DeprecationWarning: The `.content()` method should be used instead\n",
      "  jsonl_string = client.files.retrieve_content(response_out.output_file_id)\n"
     ]
    }
   ],
   "source": [
    "jsonl_string = client.files.retrieve_content(response_out.output_file_id)"
   ]
  },
  {
   "cell_type": "code",
   "execution_count": 22,
   "id": "f6c5604a-bf24-403b-af4a-bfec37c3eb37",
   "metadata": {},
   "outputs": [],
   "source": [
    "# Split the string by newline characters to get each JSON line\n",
    "json_lines = jsonl_string.strip().split('\\n')"
   ]
  },
  {
   "cell_type": "code",
   "execution_count": 23,
   "id": "ba458bcc-1ecf-424b-954e-9cbb1359b2c8",
   "metadata": {},
   "outputs": [],
   "source": [
    "# Parse each JSON line into a Python dictionary\n",
    "json_objects = [json.loads(line) for line in json_lines]\n",
    "\n",
    "# Load the list of JSON objects into a DataFrame\n",
    "df_test = pd.DataFrame(json_objects)"
   ]
  },
  {
   "cell_type": "code",
   "execution_count": 24,
   "id": "97de21c6-c4bb-457b-aaef-a2d31c8354d3",
   "metadata": {},
   "outputs": [
    {
     "data": {
      "text/plain": [
       "(160, 4)"
      ]
     },
     "execution_count": 24,
     "metadata": {},
     "output_type": "execute_result"
    }
   ],
   "source": [
    "df_test.shape"
   ]
  },
  {
   "cell_type": "code",
   "execution_count": 25,
   "id": "7e5f493f-920b-45ff-b859-4d107846287c",
   "metadata": {},
   "outputs": [
    {
     "data": {
      "text/html": [
       "<div>\n",
       "<style scoped>\n",
       "    .dataframe tbody tr th:only-of-type {\n",
       "        vertical-align: middle;\n",
       "    }\n",
       "\n",
       "    .dataframe tbody tr th {\n",
       "        vertical-align: top;\n",
       "    }\n",
       "\n",
       "    .dataframe thead th {\n",
       "        text-align: right;\n",
       "    }\n",
       "</style>\n",
       "<table border=\"1\" class=\"dataframe\">\n",
       "  <thead>\n",
       "    <tr style=\"text-align: right;\">\n",
       "      <th></th>\n",
       "      <th>id</th>\n",
       "      <th>custom_id</th>\n",
       "      <th>response</th>\n",
       "      <th>error</th>\n",
       "    </tr>\n",
       "  </thead>\n",
       "  <tbody>\n",
       "    <tr>\n",
       "      <th>0</th>\n",
       "      <td>batch_req_6727e72a26a881909f3921898fa99cde</td>\n",
       "      <td>01206</td>\n",
       "      <td>{'status_code': 200, 'request_id': '089527f77b...</td>\n",
       "      <td>None</td>\n",
       "    </tr>\n",
       "    <tr>\n",
       "      <th>1</th>\n",
       "      <td>batch_req_6727e72a31f88190bbb27c90c1bd44f1</td>\n",
       "      <td>06497</td>\n",
       "      <td>{'status_code': 200, 'request_id': '98ea4b58c0...</td>\n",
       "      <td>None</td>\n",
       "    </tr>\n",
       "    <tr>\n",
       "      <th>2</th>\n",
       "      <td>batch_req_6727e72a3d888190b689170b901a4896</td>\n",
       "      <td>06436</td>\n",
       "      <td>{'status_code': 200, 'request_id': '3b423af84e...</td>\n",
       "      <td>None</td>\n",
       "    </tr>\n",
       "    <tr>\n",
       "      <th>3</th>\n",
       "      <td>batch_req_6727e72a4b208190b816a68e9faa7f81</td>\n",
       "      <td>02647</td>\n",
       "      <td>{'status_code': 200, 'request_id': '5cef70a55c...</td>\n",
       "      <td>None</td>\n",
       "    </tr>\n",
       "    <tr>\n",
       "      <th>4</th>\n",
       "      <td>batch_req_6727e72a569081908f094fa442188706</td>\n",
       "      <td>05504</td>\n",
       "      <td>{'status_code': 200, 'request_id': 'c1fc613593...</td>\n",
       "      <td>None</td>\n",
       "    </tr>\n",
       "  </tbody>\n",
       "</table>\n",
       "</div>"
      ],
      "text/plain": [
       "                                           id custom_id  \\\n",
       "0  batch_req_6727e72a26a881909f3921898fa99cde     01206   \n",
       "1  batch_req_6727e72a31f88190bbb27c90c1bd44f1     06497   \n",
       "2  batch_req_6727e72a3d888190b689170b901a4896     06436   \n",
       "3  batch_req_6727e72a4b208190b816a68e9faa7f81     02647   \n",
       "4  batch_req_6727e72a569081908f094fa442188706     05504   \n",
       "\n",
       "                                            response error  \n",
       "0  {'status_code': 200, 'request_id': '089527f77b...  None  \n",
       "1  {'status_code': 200, 'request_id': '98ea4b58c0...  None  \n",
       "2  {'status_code': 200, 'request_id': '3b423af84e...  None  \n",
       "3  {'status_code': 200, 'request_id': '5cef70a55c...  None  \n",
       "4  {'status_code': 200, 'request_id': 'c1fc613593...  None  "
      ]
     },
     "execution_count": 25,
     "metadata": {},
     "output_type": "execute_result"
    }
   ],
   "source": [
    "df_test.head()"
   ]
  },
  {
   "cell_type": "code",
   "execution_count": 26,
   "id": "bfbecde1-e3b5-4579-bde1-8af8bbf81b0e",
   "metadata": {},
   "outputs": [],
   "source": [
    "df_test.to_csv('results/responses_base_model.csv', index=False)"
   ]
  },
  {
   "cell_type": "markdown",
   "id": "90a5eeff-1fc6-4c91-ba87-9b89b016cd1a",
   "metadata": {},
   "source": [
    "## Predict using Fine-Tuned Model and Batches API\n",
    "\n",
    "Edit `create_test_jsonl_fine_tuned.py`, to include the name of the fine-tuned model.\n",
    "\n",
    "First, run `create_test_jsonl_fine_tuned.py`."
   ]
  },
  {
   "cell_type": "code",
   "execution_count": 27,
   "id": "1756ee74-769a-4fb6-90c2-14139785d2f7",
   "metadata": {},
   "outputs": [],
   "source": [
    "test_file = 'data/fine-tune/test_ft_model.jsonl'"
   ]
  },
  {
   "cell_type": "code",
   "execution_count": 28,
   "id": "6aa0277c-48d6-4e4b-81cd-56df08175b49",
   "metadata": {},
   "outputs": [],
   "source": [
    "batch_input_file = client.files.create(\n",
    "  file=open(test_file, \"rb\"),\n",
    "  purpose=\"batch\"\n",
    ")"
   ]
  },
  {
   "cell_type": "markdown",
   "id": "b5f943bc-c087-4c47-a193-026ab0e281d4",
   "metadata": {},
   "source": [
    "See uploaded jsonl files at https://platform.openai.com/storage/files"
   ]
  },
  {
   "cell_type": "code",
   "execution_count": 29,
   "id": "e4dfa1e7-4204-4f4b-8574-817b97f7729b",
   "metadata": {},
   "outputs": [],
   "source": [
    "response = client.batches.create(\n",
    "            input_file_id = batch_input_file.id,\n",
    "            endpoint = \"/v1/chat/completions\",\n",
    "            completion_window = \"24h\",\n",
    "            metadata = {\n",
    "              \"description\": f\"Image label prediction for test set using the fine-tuned model\"\n",
    "                })"
   ]
  },
  {
   "cell_type": "code",
   "execution_count": 30,
   "id": "d5d36c0e-ff11-44ea-ba05-dfe63eb1a435",
   "metadata": {},
   "outputs": [
    {
     "name": "stdout",
     "output_type": "stream",
     "text": [
      "Saved batch ID 'batch_6727eed914388190b810b0adadc60eaf' under key 'response_id_ft_model_test_set'.\n"
     ]
    }
   ],
   "source": [
    "# Save the base model batch ID\n",
    "gpt_utils.save_batch_id(response.id, \"response_id_ft_model_test_set\")"
   ]
  },
  {
   "cell_type": "markdown",
   "id": "6521bc2d-c082-47af-9ee4-575d79d9e3c2",
   "metadata": {},
   "source": [
    "- After submitting to Batches API, go to https://platform.openai.com/batches\n",
    "- Wait until the batch is complete. Then get the responses."
   ]
  },
  {
   "cell_type": "code",
   "execution_count": 31,
   "id": "c63555e0-a102-4f91-97da-c76445360749",
   "metadata": {},
   "outputs": [],
   "source": [
    "# Later, when you want to load the batch IDs:\n",
    "ft_model_batch_id = gpt_utils.load_batch_id(\"response_id_ft_model_test_set\")"
   ]
  },
  {
   "cell_type": "code",
   "execution_count": 32,
   "id": "0c1a3c2e-85b7-4c7f-a2ab-249db3cec0cc",
   "metadata": {},
   "outputs": [
    {
     "name": "stdout",
     "output_type": "stream",
     "text": [
      "Fine-tuned Model Batch ID: batch_6727eed914388190b810b0adadc60eaf\n"
     ]
    }
   ],
   "source": [
    "print(f\"Fine-tuned Model Batch ID: {ft_model_batch_id}\")"
   ]
  },
  {
   "cell_type": "code",
   "execution_count": 33,
   "id": "31246f2c-b4a5-43a4-bf2a-73caa10fb7bb",
   "metadata": {},
   "outputs": [],
   "source": [
    "# response_out = client.batches.retrieve(response.id)\n",
    "response_out = client.batches.retrieve(ft_model_batch_id)"
   ]
  },
  {
   "cell_type": "code",
   "execution_count": 34,
   "id": "10558471-375a-4430-93b0-a9577f0790c6",
   "metadata": {},
   "outputs": [
    {
     "data": {
      "text/plain": [
       "Batch(id='batch_6727eed914388190b810b0adadc60eaf', completion_window='24h', created_at=1730670297, endpoint='/v1/chat/completions', input_file_id='file-g7HelGZw8wKZkYKRp4Vt9A8e', object='batch', status='completed', cancelled_at=None, cancelling_at=None, completed_at=1730670859, error_file_id=None, errors=None, expired_at=None, expires_at=1730756697, failed_at=None, finalizing_at=1730670849, in_progress_at=1730670299, metadata={'description': 'Image label prediction for test set using the fine-tuned model'}, output_file_id='file-hYg5OtQ1cBd0qRT4c94oc9dk', request_counts=BatchRequestCounts(completed=160, failed=0, total=160))"
      ]
     },
     "execution_count": 34,
     "metadata": {},
     "output_type": "execute_result"
    }
   ],
   "source": [
    "response_out"
   ]
  },
  {
   "cell_type": "code",
   "execution_count": 35,
   "id": "7f6c62b7-c59b-4b73-a97b-d01909a882f8",
   "metadata": {},
   "outputs": [
    {
     "name": "stderr",
     "output_type": "stream",
     "text": [
      "/tmp/ipykernel_2949775/1498063636.py:1: DeprecationWarning: The `.content()` method should be used instead\n",
      "  jsonl_string = client.files.retrieve_content(response_out.output_file_id)\n"
     ]
    }
   ],
   "source": [
    "jsonl_string = client.files.retrieve_content(response_out.output_file_id)"
   ]
  },
  {
   "cell_type": "code",
   "execution_count": 36,
   "id": "acc279d1-a1bc-438c-ba70-557fc9d6432d",
   "metadata": {},
   "outputs": [],
   "source": [
    "# Split the string by newline characters to get each JSON line\n",
    "json_lines = jsonl_string.strip().split('\\n')"
   ]
  },
  {
   "cell_type": "code",
   "execution_count": 37,
   "id": "f8d51783-f833-4fbb-9ff8-ddcea5742915",
   "metadata": {},
   "outputs": [],
   "source": [
    "# Parse each JSON line into a Python dictionary\n",
    "json_objects = [json.loads(line) for line in json_lines]\n",
    "\n",
    "# Load the list of JSON objects into a DataFrame\n",
    "df_test = pd.DataFrame(json_objects)"
   ]
  },
  {
   "cell_type": "code",
   "execution_count": 38,
   "id": "bc802b77-a3b3-4f6d-b1eb-10563768a5c8",
   "metadata": {},
   "outputs": [
    {
     "data": {
      "text/plain": [
       "(160, 4)"
      ]
     },
     "execution_count": 38,
     "metadata": {},
     "output_type": "execute_result"
    }
   ],
   "source": [
    "df_test.shape"
   ]
  },
  {
   "cell_type": "code",
   "execution_count": 39,
   "id": "3ee3f7fe-7384-4b91-8901-d2ea031eb450",
   "metadata": {},
   "outputs": [
    {
     "data": {
      "text/html": [
       "<div>\n",
       "<style scoped>\n",
       "    .dataframe tbody tr th:only-of-type {\n",
       "        vertical-align: middle;\n",
       "    }\n",
       "\n",
       "    .dataframe tbody tr th {\n",
       "        vertical-align: top;\n",
       "    }\n",
       "\n",
       "    .dataframe thead th {\n",
       "        text-align: right;\n",
       "    }\n",
       "</style>\n",
       "<table border=\"1\" class=\"dataframe\">\n",
       "  <thead>\n",
       "    <tr style=\"text-align: right;\">\n",
       "      <th></th>\n",
       "      <th>id</th>\n",
       "      <th>custom_id</th>\n",
       "      <th>response</th>\n",
       "      <th>error</th>\n",
       "    </tr>\n",
       "  </thead>\n",
       "  <tbody>\n",
       "    <tr>\n",
       "      <th>0</th>\n",
       "      <td>batch_req_6727f1023c7c8190a18ba1bc456b829f</td>\n",
       "      <td>01206</td>\n",
       "      <td>{'status_code': 200, 'request_id': '66a29f9f23...</td>\n",
       "      <td>None</td>\n",
       "    </tr>\n",
       "    <tr>\n",
       "      <th>1</th>\n",
       "      <td>batch_req_6727f1024ae08190a9b9f883eb352ce6</td>\n",
       "      <td>06497</td>\n",
       "      <td>{'status_code': 200, 'request_id': 'e3b5c63154...</td>\n",
       "      <td>None</td>\n",
       "    </tr>\n",
       "    <tr>\n",
       "      <th>2</th>\n",
       "      <td>batch_req_6727f10257e08190bf643214aed025b3</td>\n",
       "      <td>06436</td>\n",
       "      <td>{'status_code': 200, 'request_id': '32ee6fe664...</td>\n",
       "      <td>None</td>\n",
       "    </tr>\n",
       "    <tr>\n",
       "      <th>3</th>\n",
       "      <td>batch_req_6727f10267448190a5b1c3af39aaf83a</td>\n",
       "      <td>02647</td>\n",
       "      <td>{'status_code': 200, 'request_id': 'bcd77bb0ca...</td>\n",
       "      <td>None</td>\n",
       "    </tr>\n",
       "    <tr>\n",
       "      <th>4</th>\n",
       "      <td>batch_req_6727f102748c81908af8a47eb66b47f5</td>\n",
       "      <td>05504</td>\n",
       "      <td>{'status_code': 200, 'request_id': 'e27cf2963c...</td>\n",
       "      <td>None</td>\n",
       "    </tr>\n",
       "  </tbody>\n",
       "</table>\n",
       "</div>"
      ],
      "text/plain": [
       "                                           id custom_id  \\\n",
       "0  batch_req_6727f1023c7c8190a18ba1bc456b829f     01206   \n",
       "1  batch_req_6727f1024ae08190a9b9f883eb352ce6     06497   \n",
       "2  batch_req_6727f10257e08190bf643214aed025b3     06436   \n",
       "3  batch_req_6727f10267448190a5b1c3af39aaf83a     02647   \n",
       "4  batch_req_6727f102748c81908af8a47eb66b47f5     05504   \n",
       "\n",
       "                                            response error  \n",
       "0  {'status_code': 200, 'request_id': '66a29f9f23...  None  \n",
       "1  {'status_code': 200, 'request_id': 'e3b5c63154...  None  \n",
       "2  {'status_code': 200, 'request_id': '32ee6fe664...  None  \n",
       "3  {'status_code': 200, 'request_id': 'bcd77bb0ca...  None  \n",
       "4  {'status_code': 200, 'request_id': 'e27cf2963c...  None  "
      ]
     },
     "execution_count": 39,
     "metadata": {},
     "output_type": "execute_result"
    }
   ],
   "source": [
    "df_test.head()"
   ]
  },
  {
   "cell_type": "code",
   "execution_count": 40,
   "id": "87a0ab0f-6238-4d9d-adf3-138add93001a",
   "metadata": {},
   "outputs": [],
   "source": [
    "df_test.to_csv('results/responses_ft_model.csv', index=False)"
   ]
  }
 ],
 "metadata": {
  "kernelspec": {
   "display_name": "image-ai",
   "language": "python",
   "name": "image-ai"
  },
  "language_info": {
   "codemirror_mode": {
    "name": "ipython",
    "version": 3
   },
   "file_extension": ".py",
   "mimetype": "text/x-python",
   "name": "python",
   "nbconvert_exporter": "python",
   "pygments_lexer": "ipython3",
   "version": "3.10.12"
  }
 },
 "nbformat": 4,
 "nbformat_minor": 5
}
