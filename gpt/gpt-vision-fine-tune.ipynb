{
 "cells": [
  {
   "cell_type": "markdown",
   "id": "201c9cac-48f3-4d3d-ac18-7e6fe38700db",
   "metadata": {},
   "source": [
    "# Vision Fine Tune GPT-4o"
   ]
  },
  {
   "cell_type": "code",
   "execution_count": 1,
   "id": "361da177-c73f-4968-9a3b-214b910a1fda",
   "metadata": {},
   "outputs": [],
   "source": [
    "from openai import OpenAI\n",
    "import os\n",
    "import json\n",
    "import pandas as pd\n",
    "import dotenv\n",
    "from dotenv import load_dotenv\n",
    "import gpt_utils\n",
    "from pydantic import BaseModel"
   ]
  },
  {
   "cell_type": "code",
   "execution_count": 2,
   "id": "0f60cb32-d466-425e-a47e-127962b9bba0",
   "metadata": {},
   "outputs": [],
   "source": [
    "proj_dir = f'/zfs/projects/darc/nrapstin_hht_image_ai'"
   ]
  },
  {
   "cell_type": "code",
   "execution_count": 3,
   "id": "576f5e48-6554-456a-8b1a-aafd371a2f05",
   "metadata": {},
   "outputs": [
    {
     "data": {
      "text/plain": [
       "True"
      ]
     },
     "execution_count": 3,
     "metadata": {},
     "output_type": "execute_result"
    }
   ],
   "source": [
    "dotenv.load_dotenv(f'{proj_dir}/.env', override=True)"
   ]
  },
  {
   "cell_type": "code",
   "execution_count": 4,
   "id": "c5f01874-a929-4153-8a7e-54cd5e795da6",
   "metadata": {},
   "outputs": [],
   "source": [
    "api_key = os.environ[\"OPENAI_API_KEY\"]"
   ]
  },
  {
   "cell_type": "code",
   "execution_count": 5,
   "id": "9c86d66f-103a-4963-b74e-8fcfdc5e2d7b",
   "metadata": {},
   "outputs": [],
   "source": [
    "client = OpenAI()"
   ]
  },
  {
   "cell_type": "code",
   "execution_count": 6,
   "id": "f19d9f8c-3e68-40f1-b21d-d643b1f2b51d",
   "metadata": {},
   "outputs": [],
   "source": [
    "class CarYear(BaseModel):\n",
    "    year: int"
   ]
  },
  {
   "cell_type": "markdown",
   "id": "8a7404f7-abab-4fb7-b524-4facbff24d04",
   "metadata": {},
   "source": [
    "## Load data"
   ]
  },
  {
   "cell_type": "code",
   "execution_count": 7,
   "id": "931e2335-cce4-4103-b909-223d2b580f1f",
   "metadata": {},
   "outputs": [],
   "source": [
    "data_file = f\"{proj_dir}/stanford-cars/data/train.csv\""
   ]
  },
  {
   "cell_type": "code",
   "execution_count": 8,
   "id": "bd0946c7-b12e-43a1-9c98-d044ac01a5fb",
   "metadata": {},
   "outputs": [],
   "source": [
    "df = pd.read_csv(data_file, usecols=['image', 'Class', 'Class Name'])"
   ]
  },
  {
   "cell_type": "markdown",
   "id": "1688434d-9c75-4c00-abc3-fdf8d13b1fb8",
   "metadata": {},
   "source": [
    "### Prepare train, validation files"
   ]
  },
  {
   "cell_type": "code",
   "execution_count": 9,
   "id": "8cd4244f-f65d-4cab-9689-0a7da1af04e1",
   "metadata": {
    "scrolled": true
   },
   "outputs": [
    {
     "name": "stdout",
     "output_type": "stream",
     "text": [
      "Warning: Not enough images for class 2006. Required: 35, Available: 32\n",
      "Warning: Not enough images for class 2002. Required: 35, Available: 31\n",
      "Warning: Not enough images for class 1999. Required: 35, Available: 31\n",
      "Warning: Not enough images for class 1997. Required: 35, Available: 31\n",
      "Warning: Not enough images for class 1991. Required: 35, Available: 32\n",
      "Warning: Not enough images for class 2000. Required: 35, Available: 32\n",
      "JSONL files already exist. Skipping creation.\n"
     ]
    }
   ],
   "source": [
    "gpt_utils.prepare_ft_data(df)"
   ]
  },
  {
   "cell_type": "markdown",
   "id": "1d94c3b7-936e-4240-bda2-867d3a19e494",
   "metadata": {},
   "source": [
    "### The limits for jsonl with images:\n",
    "- Your training file can contain a maximum of 50,000 examples that contain images (not including text examples).\n",
    "- Each example can have at most 10 images.\n",
    "- Each image can be at most 10 MB."
   ]
  },
  {
   "cell_type": "markdown",
   "id": "d1e1b350-f3e2-4cbb-98d2-22f207c0819b",
   "metadata": {},
   "source": [
    "- Randomly select 15 images per class for training, 10 per class for validation, and 10 per class for testing.\n",
    "- Create three JSONL files (`train.jsonl`, `val.jsonl`, and `test.jsonl`) using the provided `create_jsonl` function."
   ]
  },
  {
   "cell_type": "markdown",
   "id": "b3d35bc8-325a-436c-a305-6cf48b9f5ac4",
   "metadata": {},
   "source": [
    "## Fine-Tune"
   ]
  },
  {
   "cell_type": "code",
   "execution_count": null,
   "id": "489e4d53-7c1c-4aa2-b3d9-e89e430b0c65",
   "metadata": {},
   "outputs": [],
   "source": [
    "model = \"gpt-4o-2024-08-06\""
   ]
  },
  {
   "cell_type": "code",
   "execution_count": null,
   "id": "61ae8c89-7dd6-4745-99ee-83497bc84538",
   "metadata": {},
   "outputs": [],
   "source": [
    "jsonl_train_file = 'data/fine-tune/train.jsonl'\n",
    "jsonl_val_file = 'data/fine-tune/val.jsonl'"
   ]
  },
  {
   "cell_type": "code",
   "execution_count": null,
   "id": "247fe7e5-cad3-427f-8233-b2c1a15677a9",
   "metadata": {},
   "outputs": [],
   "source": [
    "train_file = client.files.create(\n",
    "  file=open(jsonl_train_file, \"rb\"),\n",
    "  purpose=\"fine-tune\"\n",
    ")"
   ]
  },
  {
   "cell_type": "code",
   "execution_count": null,
   "id": "7101f3c5-9b9d-4e1b-b04f-6912ba3d2d5b",
   "metadata": {},
   "outputs": [],
   "source": [
    "val_file = client.files.create(\n",
    "  file=open(jsonl_val_file, \"rb\"),\n",
    "  purpose=\"fine-tune\"\n",
    ")"
   ]
  },
  {
   "cell_type": "markdown",
   "id": "a0493c28-981a-4925-8a71-38957e48968c",
   "metadata": {},
   "source": [
    "See uploaded jsonl files at https://platform.openai.com/storage/files"
   ]
  },
  {
   "cell_type": "code",
   "execution_count": null,
   "id": "28b596ec-3bfc-4c09-9594-f30a6e62e96b",
   "metadata": {},
   "outputs": [],
   "source": [
    "# start fine-tuning job\n",
    "ft_job = client.fine_tuning.jobs.create(\n",
    "         training_file = train_file.id,\n",
    "         validation_file = val_file.id,\n",
    "         model = model\n",
    ")"
   ]
  },
  {
   "cell_type": "markdown",
   "id": "bbb3f051-b624-4242-88dd-aed2a71c7b37",
   "metadata": {
    "jp-MarkdownHeadingCollapsed": true
   },
   "source": [
    "## Predict using GPT-4o Model using Batches API\n",
    "\n",
    "First, run `create_test_jsonl_base.py`."
   ]
  },
  {
   "cell_type": "code",
   "execution_count": null,
   "id": "e5405d81-db28-431c-97fd-bf0966fd3fa1",
   "metadata": {},
   "outputs": [],
   "source": [
    "test_file = f'{proj_dir}/stanford-cars/gpt/data/fine-tune/test_base_model.jsonl'"
   ]
  },
  {
   "cell_type": "code",
   "execution_count": null,
   "id": "4c2c4a7a-bc4d-4bea-8807-18d5e6bb4015",
   "metadata": {},
   "outputs": [],
   "source": [
    "batch_input_file = client.files.create(\n",
    "  file=open(test_file, \"rb\"),\n",
    "  purpose=\"batch\"\n",
    ")"
   ]
  },
  {
   "cell_type": "markdown",
   "id": "0661b976-fdab-46be-ba68-605b3d34f9ba",
   "metadata": {},
   "source": [
    "See uploaded jsonl files at https://platform.openai.com/storage/files"
   ]
  },
  {
   "cell_type": "code",
   "execution_count": null,
   "id": "24b94137-ad4e-4de0-8058-3f02b3afbaf4",
   "metadata": {},
   "outputs": [],
   "source": [
    "response = client.batches.create(\n",
    "            input_file_id = batch_input_file.id,\n",
    "            endpoint = \"/v1/chat/completions\",\n",
    "            completion_window = \"24h\",\n",
    "            metadata = {\n",
    "              \"description\": f\"Image label prediction for test set using the base model\"\n",
    "                })"
   ]
  },
  {
   "cell_type": "code",
   "execution_count": null,
   "id": "f52fb07f-2949-4490-9e04-7ffed49db4f1",
   "metadata": {},
   "outputs": [],
   "source": [
    "# Save the base model batch ID\n",
    "gpt_utils.save_batch_id(response.id, \"response_id_base_model_test_set\")"
   ]
  },
  {
   "cell_type": "markdown",
   "id": "9a3814bc-7c99-4eae-b53c-0f96b0e027e7",
   "metadata": {},
   "source": [
    "- After submitting to Batches API, go to https://platform.openai.com/batches\n",
    "- Wait until the batch is complete. Then get the responses."
   ]
  },
  {
   "cell_type": "code",
   "execution_count": null,
   "id": "2672f128-67b6-4e7a-9ef2-f561d39b306b",
   "metadata": {},
   "outputs": [],
   "source": [
    "# Later, when you want to load the batch IDs:\n",
    "base_model_batch_id = gpt_utils.load_batch_id(\"response_id_base_model_test_set\")"
   ]
  },
  {
   "cell_type": "code",
   "execution_count": null,
   "id": "65fe9605-ebcf-474b-bbd4-287f7909b49d",
   "metadata": {},
   "outputs": [],
   "source": [
    "print(f\"Base Model Batch ID: {base_model_batch_id}\")"
   ]
  },
  {
   "cell_type": "code",
   "execution_count": null,
   "id": "b5b687e1-ef58-4e46-9e6c-3aca09c84626",
   "metadata": {},
   "outputs": [],
   "source": [
    "response_out = client.batches.retrieve(base_model_batch_id)"
   ]
  },
  {
   "cell_type": "code",
   "execution_count": null,
   "id": "b8ab5a72-a0ff-4f5c-92e7-a295738f78b4",
   "metadata": {},
   "outputs": [],
   "source": [
    "response_out"
   ]
  },
  {
   "cell_type": "code",
   "execution_count": null,
   "id": "359a88af-19ff-42ae-8bac-f8685870cbb9",
   "metadata": {},
   "outputs": [],
   "source": [
    "jsonl_string = client.files.retrieve_content(response_out.output_file_id)"
   ]
  },
  {
   "cell_type": "code",
   "execution_count": null,
   "id": "f6c5604a-bf24-403b-af4a-bfec37c3eb37",
   "metadata": {},
   "outputs": [],
   "source": [
    "# Split the string by newline characters to get each JSON line\n",
    "json_lines = jsonl_string.strip().split('\\n')"
   ]
  },
  {
   "cell_type": "code",
   "execution_count": null,
   "id": "ba458bcc-1ecf-424b-954e-9cbb1359b2c8",
   "metadata": {},
   "outputs": [],
   "source": [
    "# Parse each JSON line into a Python dictionary\n",
    "json_objects = [json.loads(line) for line in json_lines]\n",
    "\n",
    "# Load the list of JSON objects into a DataFrame\n",
    "df_test = pd.DataFrame(json_objects)"
   ]
  },
  {
   "cell_type": "code",
   "execution_count": null,
   "id": "97de21c6-c4bb-457b-aaef-a2d31c8354d3",
   "metadata": {},
   "outputs": [],
   "source": [
    "df_test.shape"
   ]
  },
  {
   "cell_type": "code",
   "execution_count": null,
   "id": "7e5f493f-920b-45ff-b859-4d107846287c",
   "metadata": {},
   "outputs": [],
   "source": [
    "df_test.head()"
   ]
  },
  {
   "cell_type": "code",
   "execution_count": null,
   "id": "bfbecde1-e3b5-4579-bde1-8af8bbf81b0e",
   "metadata": {},
   "outputs": [],
   "source": [
    "df_test.to_csv('results/responses_base_model.csv', index=False)"
   ]
  },
  {
   "cell_type": "markdown",
   "id": "9e2b15f5-fc7b-4fc1-b101-4a21d3a3c7f5",
   "metadata": {
    "jp-MarkdownHeadingCollapsed": true
   },
   "source": [
    "## Batch expired.. so we make syncronous calls instead"
   ]
  },
  {
   "cell_type": "code",
   "execution_count": null,
   "id": "839ad966-0930-4df6-a282-fa41d07b4e8f",
   "metadata": {},
   "outputs": [],
   "source": [
    "model = \"gpt-4o-2024-08-06\""
   ]
  },
  {
   "cell_type": "code",
   "execution_count": null,
   "id": "c2a38146-3201-4fb7-900f-4d71edc5eaaa",
   "metadata": {},
   "outputs": [],
   "source": [
    "test_image_paths_file = f'{proj_dir}/stanford-cars/gpt/data/fine-tune/test_image_paths.txt'"
   ]
  },
  {
   "cell_type": "code",
   "execution_count": null,
   "id": "bb8f9179-02f5-4270-acb1-2654c37c02e0",
   "metadata": {},
   "outputs": [],
   "source": [
    "with open(test_image_paths_file, 'r') as f:\n",
    "    test_image_paths = [line.strip() for line in f.readlines()]"
   ]
  },
  {
   "cell_type": "code",
   "execution_count": null,
   "id": "f6b47eb9-a866-4354-b0c3-203ce31b0ccd",
   "metadata": {},
   "outputs": [],
   "source": [
    "len(test_image_paths)"
   ]
  },
  {
   "cell_type": "code",
   "execution_count": null,
   "id": "d2be7013-427c-4857-b6d3-30c9dc65864a",
   "metadata": {
    "scrolled": true
   },
   "outputs": [],
   "source": [
    "%%time\n",
    "\n",
    "responses = []\n",
    "image_ids = []\n",
    "\n",
    "for i in range(len(test_image_paths)):\n",
    "# for i in range(1):\n",
    "\n",
    "    test_image = test_image_paths[i]\n",
    "    print(test_image)\n",
    "    image_id = int(test_image.split('/')[-1][:-4])\n",
    "    print(image_id)\n",
    "    image_ids.append(image_id)\n",
    "    encoded_image = gpt_utils.encode_image(test_image)\n",
    "    image_content = {\n",
    "        \"type\": \"image_url\",\n",
    "        \"image_url\": {\n",
    "            \"url\": f\"data:image/png;base64,{encoded_image}\"}}\n",
    "\n",
    "    completion = client.beta.chat.completions.parse(\n",
    "        model = model,\n",
    "        messages = [  {\"role\": \"user\", \"content\": [{\n",
    "                            \"type\": \"text\",\n",
    "                            \"text\": \"What is the year of the car in the image?\" },\n",
    "                        image_content\n",
    "                    ]}],\n",
    "        response_format = CarYear)\n",
    "    \n",
    "    response = completion.choices[0].message.parsed\n",
    "    year = response.year\n",
    "    print(year)\n",
    "    responses.append(year)"
   ]
  },
  {
   "cell_type": "code",
   "execution_count": null,
   "id": "bb6b53a9-df1e-4440-a13e-79866b304780",
   "metadata": {},
   "outputs": [],
   "source": [
    "len(responses)"
   ]
  },
  {
   "cell_type": "code",
   "execution_count": null,
   "id": "b1ac0ba5-f25a-45bd-b21e-2f9e4f876547",
   "metadata": {},
   "outputs": [],
   "source": [
    "len(image_ids)"
   ]
  },
  {
   "cell_type": "code",
   "execution_count": null,
   "id": "ea69c480-65c4-41db-9f25-9561e675c7f0",
   "metadata": {},
   "outputs": [],
   "source": [
    "df_test_out = pd.DataFrame({'Prediction': responses, \n",
    "                           'image_id': image_ids})"
   ]
  },
  {
   "cell_type": "code",
   "execution_count": null,
   "id": "3419afea-b80e-48f5-a1f5-997ac23e1d1c",
   "metadata": {},
   "outputs": [],
   "source": [
    "df_test_out.head()"
   ]
  },
  {
   "cell_type": "code",
   "execution_count": null,
   "id": "43795940-61d8-48e2-8c8a-4ba2427b5ff5",
   "metadata": {},
   "outputs": [],
   "source": [
    "df_test_out.to_csv(f'{proj_dir}/stanford-cars/gpt/results/base_model_test_df_responses.csv', index=False)\n"
   ]
  },
  {
   "cell_type": "markdown",
   "id": "90a5eeff-1fc6-4c91-ba87-9b89b016cd1a",
   "metadata": {},
   "source": [
    "## Predict using Fine-Tuned Model and Batches API\n",
    "\n",
    "First, run `create_test_jsonl_fine_tuned.py`."
   ]
  },
  {
   "cell_type": "code",
   "execution_count": null,
   "id": "1756ee74-769a-4fb6-90c2-14139785d2f7",
   "metadata": {},
   "outputs": [],
   "source": [
    "test_file = 'data/fine-tune/test_ft_model.jsonl'"
   ]
  },
  {
   "cell_type": "code",
   "execution_count": null,
   "id": "6aa0277c-48d6-4e4b-81cd-56df08175b49",
   "metadata": {},
   "outputs": [],
   "source": [
    "batch_input_file = client.files.create(\n",
    "  file=open(test_file, \"rb\"),\n",
    "  purpose=\"batch\"\n",
    ")"
   ]
  },
  {
   "cell_type": "markdown",
   "id": "b5f943bc-c087-4c47-a193-026ab0e281d4",
   "metadata": {},
   "source": [
    "See uploaded jsonl files at https://platform.openai.com/storage/files"
   ]
  },
  {
   "cell_type": "code",
   "execution_count": null,
   "id": "e4dfa1e7-4204-4f4b-8574-817b97f7729b",
   "metadata": {},
   "outputs": [],
   "source": [
    "response = client.batches.create(\n",
    "            input_file_id = batch_input_file.id,\n",
    "            endpoint = \"/v1/chat/completions\",\n",
    "            completion_window = \"24h\",\n",
    "            metadata = {\n",
    "              \"description\": f\"Image label prediction for test set using the fine-tuned model\"\n",
    "                })"
   ]
  },
  {
   "cell_type": "code",
   "execution_count": null,
   "id": "d5d36c0e-ff11-44ea-ba05-dfe63eb1a435",
   "metadata": {},
   "outputs": [],
   "source": [
    "# Save the base model batch ID\n",
    "gpt_utils.save_batch_id(response.id, \"response_id_ft_model_test_set\")"
   ]
  },
  {
   "cell_type": "markdown",
   "id": "6521bc2d-c082-47af-9ee4-575d79d9e3c2",
   "metadata": {},
   "source": [
    "- After submitting to Batches API, go to https://platform.openai.com/batches\n",
    "- Wait until the batch is complete. Then get the responses."
   ]
  },
  {
   "cell_type": "code",
   "execution_count": null,
   "id": "c63555e0-a102-4f91-97da-c76445360749",
   "metadata": {},
   "outputs": [],
   "source": [
    "# Later, when you want to load the batch IDs:\n",
    "ft_model_batch_id = gpt_utils.load_batch_id(\"response_id_ft_model_test_set\")"
   ]
  },
  {
   "cell_type": "code",
   "execution_count": null,
   "id": "0c1a3c2e-85b7-4c7f-a2ab-249db3cec0cc",
   "metadata": {},
   "outputs": [],
   "source": [
    "print(f\"Fine-tuned Model Batch ID: {ft_model_batch_id}\")"
   ]
  },
  {
   "cell_type": "code",
   "execution_count": null,
   "id": "31246f2c-b4a5-43a4-bf2a-73caa10fb7bb",
   "metadata": {},
   "outputs": [],
   "source": [
    "# response_out = client.batches.retrieve(response.id)\n",
    "response_out = client.batches.retrieve(ft_model_batch_id)"
   ]
  },
  {
   "cell_type": "code",
   "execution_count": null,
   "id": "10558471-375a-4430-93b0-a9577f0790c6",
   "metadata": {},
   "outputs": [],
   "source": [
    "response_out"
   ]
  },
  {
   "cell_type": "code",
   "execution_count": null,
   "id": "7f6c62b7-c59b-4b73-a97b-d01909a882f8",
   "metadata": {},
   "outputs": [],
   "source": [
    "jsonl_string = client.files.retrieve_content(response_out.output_file_id)"
   ]
  },
  {
   "cell_type": "code",
   "execution_count": null,
   "id": "acc279d1-a1bc-438c-ba70-557fc9d6432d",
   "metadata": {},
   "outputs": [],
   "source": [
    "# Split the string by newline characters to get each JSON line\n",
    "json_lines = jsonl_string.strip().split('\\n')"
   ]
  },
  {
   "cell_type": "code",
   "execution_count": null,
   "id": "f8d51783-f833-4fbb-9ff8-ddcea5742915",
   "metadata": {},
   "outputs": [],
   "source": [
    "# Parse each JSON line into a Python dictionary\n",
    "json_objects = [json.loads(line) for line in json_lines]\n",
    "\n",
    "# Load the list of JSON objects into a DataFrame\n",
    "df_test = pd.DataFrame(json_objects)"
   ]
  },
  {
   "cell_type": "code",
   "execution_count": null,
   "id": "bc802b77-a3b3-4f6d-b1eb-10563768a5c8",
   "metadata": {},
   "outputs": [],
   "source": [
    "df_test.shape"
   ]
  },
  {
   "cell_type": "code",
   "execution_count": null,
   "id": "3ee3f7fe-7384-4b91-8901-d2ea031eb450",
   "metadata": {},
   "outputs": [],
   "source": [
    "df_test.head()"
   ]
  },
  {
   "cell_type": "code",
   "execution_count": null,
   "id": "87a0ab0f-6238-4d9d-adf3-138add93001a",
   "metadata": {},
   "outputs": [],
   "source": [
    "df_test.to_csv('results/responses_ft_model.csv', index=False)"
   ]
  }
 ],
 "metadata": {
  "kernelspec": {
   "display_name": "image-ai",
   "language": "python",
   "name": "image-ai"
  },
  "language_info": {
   "codemirror_mode": {
    "name": "ipython",
    "version": 3
   },
   "file_extension": ".py",
   "mimetype": "text/x-python",
   "name": "python",
   "nbconvert_exporter": "python",
   "pygments_lexer": "ipython3",
   "version": "3.10.12"
  }
 },
 "nbformat": 4,
 "nbformat_minor": 5
}
