{
 "cells": [
  {
   "cell_type": "markdown",
   "id": "92c6665f-c3f0-4220-a29d-e5dcb95b07a4",
   "metadata": {},
   "source": [
    "## Structured Outputs"
   ]
  },
  {
   "cell_type": "code",
   "execution_count": 1,
   "id": "5fd89fb2-dfff-4691-8380-bba37e1abf51",
   "metadata": {},
   "outputs": [],
   "source": [
    "from openai import OpenAI\n",
    "from IPython.display import Image, display\n",
    "import os\n",
    "import base64\n",
    "import pandas as pd\n",
    "import dotenv\n",
    "from dotenv import load_dotenv\n",
    "from pydantic import BaseModel\n",
    "import gpt_utils"
   ]
  },
  {
   "cell_type": "code",
   "execution_count": 2,
   "id": "d91de8c1-6df1-4b20-89ed-104993b37aea",
   "metadata": {},
   "outputs": [],
   "source": [
    "pd.set_option('display.max_colwidth', None)"
   ]
  },
  {
   "cell_type": "code",
   "execution_count": 3,
   "id": "78657b28-ae0a-4912-8dd2-661349ec44bb",
   "metadata": {},
   "outputs": [],
   "source": [
    "# Load OpenAI API key for this project\n",
    "dotenv.load_dotenv()\n",
    "api_key = os.environ[\"OPENAI_API_KEY\"]\n",
    "client = OpenAI()"
   ]
  },
  {
   "cell_type": "code",
   "execution_count": 4,
   "id": "16e31760-1aa3-487b-af49-b7e3aa6f3cc7",
   "metadata": {},
   "outputs": [],
   "source": [
    "class CarYear(BaseModel):\n",
    "    year: int"
   ]
  },
  {
   "cell_type": "markdown",
   "id": "a17ad732-260c-4cdc-8444-7528d03fb3f8",
   "metadata": {},
   "source": [
    "## Load Data \n",
    "[Stanford Cars dataset](https://paperswithcode.com/dataset/stanford-cars)."
   ]
  },
  {
   "cell_type": "code",
   "execution_count": 5,
   "id": "d46a4cd4-7006-44ae-ac53-4c8bb3b2c858",
   "metadata": {},
   "outputs": [],
   "source": [
    "df = pd.read_csv('/scratch/shared/image_ai_HHT_data/train.csv', \n",
    "                 usecols=['image', 'Class', 'Class Name'])"
   ]
  },
  {
   "cell_type": "code",
   "execution_count": 6,
   "id": "1b363f86-bf95-42cc-ab78-ecee38a82c2a",
   "metadata": {},
   "outputs": [
    {
     "data": {
      "text/plain": [
       "(5700, 3)"
      ]
     },
     "execution_count": 6,
     "metadata": {},
     "output_type": "execute_result"
    }
   ],
   "source": [
    "df.shape"
   ]
  },
  {
   "cell_type": "code",
   "execution_count": 7,
   "id": "03303210-187b-4178-9453-1547d2aa9d0d",
   "metadata": {},
   "outputs": [
    {
     "data": {
      "text/html": [
       "<div>\n",
       "<style scoped>\n",
       "    .dataframe tbody tr th:only-of-type {\n",
       "        vertical-align: middle;\n",
       "    }\n",
       "\n",
       "    .dataframe tbody tr th {\n",
       "        vertical-align: top;\n",
       "    }\n",
       "\n",
       "    .dataframe thead th {\n",
       "        text-align: right;\n",
       "    }\n",
       "</style>\n",
       "<table border=\"1\" class=\"dataframe\">\n",
       "  <thead>\n",
       "    <tr style=\"text-align: right;\">\n",
       "      <th></th>\n",
       "      <th>Class</th>\n",
       "      <th>image</th>\n",
       "      <th>Class Name</th>\n",
       "    </tr>\n",
       "  </thead>\n",
       "  <tbody>\n",
       "    <tr>\n",
       "      <th>0</th>\n",
       "      <td>178</td>\n",
       "      <td>07149.jpg</td>\n",
       "      <td>Scion xD Hatchback 2012</td>\n",
       "    </tr>\n",
       "    <tr>\n",
       "      <th>1</th>\n",
       "      <td>24</td>\n",
       "      <td>06852.jpg</td>\n",
       "      <td>Audi S4 Sedan 2007</td>\n",
       "    </tr>\n",
       "    <tr>\n",
       "      <th>2</th>\n",
       "      <td>115</td>\n",
       "      <td>06627.jpg</td>\n",
       "      <td>Ford Focus Sedan 2007</td>\n",
       "    </tr>\n",
       "    <tr>\n",
       "      <th>3</th>\n",
       "      <td>4</td>\n",
       "      <td>06099.jpg</td>\n",
       "      <td>Acura TL Type-S 2008</td>\n",
       "    </tr>\n",
       "    <tr>\n",
       "      <th>4</th>\n",
       "      <td>105</td>\n",
       "      <td>05651.jpg</td>\n",
       "      <td>Fisker Karma Sedan 2012</td>\n",
       "    </tr>\n",
       "  </tbody>\n",
       "</table>\n",
       "</div>"
      ],
      "text/plain": [
       "   Class      image               Class Name\n",
       "0    178  07149.jpg  Scion xD Hatchback 2012\n",
       "1     24  06852.jpg       Audi S4 Sedan 2007\n",
       "2    115  06627.jpg    Ford Focus Sedan 2007\n",
       "3      4  06099.jpg     Acura TL Type-S 2008\n",
       "4    105  05651.jpg  Fisker Karma Sedan 2012"
      ]
     },
     "execution_count": 7,
     "metadata": {},
     "output_type": "execute_result"
    }
   ],
   "source": [
    "df.head()"
   ]
  },
  {
   "cell_type": "code",
   "execution_count": 8,
   "id": "316c6739-0d7f-4181-8ba5-d57bd09714aa",
   "metadata": {},
   "outputs": [],
   "source": [
    "image_dir = '/scratch/shared/image_ai_HHT_data/images/'"
   ]
  },
  {
   "cell_type": "code",
   "execution_count": 9,
   "id": "e508e172-b00b-4187-bf3e-3d27b8daff66",
   "metadata": {},
   "outputs": [],
   "source": [
    "# Add image path column\n",
    "df['image_path'] = image_dir + df['image']"
   ]
  },
  {
   "cell_type": "markdown",
   "id": "9072c0f7-9714-4cce-a631-c0c1b100d978",
   "metadata": {
    "jp-MarkdownHeadingCollapsed": true
   },
   "source": [
    "## Zero Shot Prompt with Structured Outputs"
   ]
  },
  {
   "cell_type": "markdown",
   "id": "43ea3e34-2a44-4b46-bd34-d20d7e657270",
   "metadata": {},
   "source": [
    "## Example 1"
   ]
  },
  {
   "cell_type": "code",
   "execution_count": 10,
   "id": "be323246-ddd3-42df-a41a-d150ee16f6c6",
   "metadata": {},
   "outputs": [
    {
     "data": {
      "text/html": [
       "<div>\n",
       "<style scoped>\n",
       "    .dataframe tbody tr th:only-of-type {\n",
       "        vertical-align: middle;\n",
       "    }\n",
       "\n",
       "    .dataframe tbody tr th {\n",
       "        vertical-align: top;\n",
       "    }\n",
       "\n",
       "    .dataframe thead th {\n",
       "        text-align: right;\n",
       "    }\n",
       "</style>\n",
       "<table border=\"1\" class=\"dataframe\">\n",
       "  <thead>\n",
       "    <tr style=\"text-align: right;\">\n",
       "      <th></th>\n",
       "      <th>Class</th>\n",
       "      <th>image</th>\n",
       "      <th>Class Name</th>\n",
       "      <th>image_path</th>\n",
       "    </tr>\n",
       "  </thead>\n",
       "  <tbody>\n",
       "    <tr>\n",
       "      <th>2076</th>\n",
       "      <td>67</td>\n",
       "      <td>08119.jpg</td>\n",
       "      <td>Chevrolet Malibu Hybrid Sedan 2010</td>\n",
       "      <td>/scratch/shared/image_ai_HHT_data/images/08119.jpg</td>\n",
       "    </tr>\n",
       "  </tbody>\n",
       "</table>\n",
       "</div>"
      ],
      "text/plain": [
       "      Class      image                          Class Name  \\\n",
       "2076     67  08119.jpg  Chevrolet Malibu Hybrid Sedan 2010   \n",
       "\n",
       "                                              image_path  \n",
       "2076  /scratch/shared/image_ai_HHT_data/images/08119.jpg  "
      ]
     },
     "execution_count": 10,
     "metadata": {},
     "output_type": "execute_result"
    }
   ],
   "source": [
    "df[df['image'] == \"08119.jpg\"]"
   ]
  },
  {
   "cell_type": "code",
   "execution_count": 11,
   "id": "da4837f9-a84c-49c6-ba85-2c33a717fe97",
   "metadata": {},
   "outputs": [],
   "source": [
    "test_image = df[df['image'] == \"08119.jpg\"]['image_path'].values[0]"
   ]
  },
  {
   "cell_type": "code",
   "execution_count": 12,
   "id": "be65966c-deca-4619-b652-2fc4ce3f07b9",
   "metadata": {},
   "outputs": [
    {
     "data": {
      "text/plain": [
       "'/scratch/shared/image_ai_HHT_data/images/08119.jpg'"
      ]
     },
     "execution_count": 12,
     "metadata": {},
     "output_type": "execute_result"
    }
   ],
   "source": [
    "test_image"
   ]
  },
  {
   "cell_type": "code",
   "execution_count": 13,
   "id": "cfa4150e-c028-4d45-aa30-066dcfe5f4c9",
   "metadata": {},
   "outputs": [
    {
     "data": {
      "image/jpeg": "[encoded data removed]",
      "text/plain": [
       "<IPython.core.display.Image object>"
      ]
     },
     "metadata": {},
     "output_type": "display_data"
    }
   ],
   "source": [
    "display(Image(filename=test_image))"
   ]
  },
  {
   "cell_type": "code",
   "execution_count": 14,
   "id": "c8bf790d-fb10-49c3-adf5-54180b59f448",
   "metadata": {},
   "outputs": [],
   "source": [
    "model = \"gpt-4o-2024-08-06\""
   ]
  },
  {
   "cell_type": "code",
   "execution_count": 15,
   "id": "94ff54e9-4a49-4254-88be-b86a0814837c",
   "metadata": {},
   "outputs": [],
   "source": [
    "encoded_image = gpt_utils.encode_image(test_image)\n",
    "image_content = {\n",
    "    \"type\": \"image_url\",\n",
    "    \"image_url\": {\n",
    "        \"url\": f\"data:image/png;base64,{encoded_image}\"}}"
   ]
  },
  {
   "cell_type": "code",
   "execution_count": 16,
   "id": "3142b12a-e0fd-45d0-9554-0fc0fd205c28",
   "metadata": {},
   "outputs": [
    {
     "name": "stdout",
     "output_type": "stream",
     "text": [
      "year=2010\n"
     ]
    }
   ],
   "source": [
    "completion = client.beta.chat.completions.parse(\n",
    "  model = model,\n",
    "  messages = [  {\"role\": \"user\", \"content\": [{\n",
    "                        \"type\": \"text\",\n",
    "                        \"text\": \"What is the year of the car in the image?\" },\n",
    "                    image_content\n",
    "                ]}],\n",
    " response_format = CarYear)\n",
    "print(completion.choices[0].message.parsed)"
   ]
  },
  {
   "cell_type": "code",
   "execution_count": 17,
   "id": "5d9ac6a3-97e6-4af0-9b1d-8f6171c585c5",
   "metadata": {},
   "outputs": [
    {
     "name": "stdout",
     "output_type": "stream",
     "text": [
      "0 try: year=2010\n",
      "1 try: year=2013\n",
      "2 try: year=2011\n",
      "3 try: year=2013\n",
      "4 try: year=2013\n",
      "5 try: year=2012\n",
      "6 try: year=2012\n",
      "7 try: year=2010\n",
      "8 try: year=2013\n",
      "9 try: year=2010\n"
     ]
    }
   ],
   "source": [
    "for i in range(10):\n",
    "    completion = client.beta.chat.completions.parse(\n",
    "    model = model,\n",
    "    messages = [  {\"role\": \"user\", \"content\": [{\n",
    "                            \"type\": \"text\",\n",
    "                            \"text\": \"What is the make, model and year of the car in the image?\" },\n",
    "                        image_content\n",
    "                    ]}],\n",
    "    response_format=CarYear)\n",
    "    print(f'{i} try: {completion.choices[0].message.parsed}')"
   ]
  }
 ],
 "metadata": {
  "kernelspec": {
   "display_name": "image-ai",
   "language": "python",
   "name": "image-ai"
  },
  "language_info": {
   "codemirror_mode": {
    "name": "ipython",
    "version": 3
   },
   "file_extension": ".py",
   "mimetype": "text/x-python",
   "name": "python",
   "nbconvert_exporter": "python",
   "pygments_lexer": "ipython3",
   "version": "3.10.12"
  }
 },
 "nbformat": 4,
 "nbformat_minor": 5
}
