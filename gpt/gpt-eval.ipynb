{
 "cells": [
  {
   "cell_type": "markdown",
   "id": "51097f9e-de40-4fb3-90a5-6fc3a514b8d7",
   "metadata": {},
   "source": [
    "## Compare Baseline GPT-4o and Fine-tuned Model Accuracy"
   ]
  },
  {
   "cell_type": "code",
   "execution_count": 30,
   "id": "b8bc7911-aa67-4d86-a3fa-cd210cdbe244",
   "metadata": {},
   "outputs": [],
   "source": [
    "import pandas as pd\n",
    "import json\n",
    "import re\n",
    "import ast\n",
    "import gpt_utils\n",
    "import matplotlib.pyplot as plt"
   ]
  },
  {
   "cell_type": "code",
   "execution_count": 2,
   "id": "035db052-691f-4ea9-81fc-5bac4f3920e8",
   "metadata": {},
   "outputs": [],
   "source": [
    "proj_dir = f'/zfs/projects/darc/nrapstin_hht_image_ai'"
   ]
  },
  {
   "cell_type": "code",
   "execution_count": 3,
   "id": "04d16e38-22f3-4031-84ba-4704b732fbb9",
   "metadata": {},
   "outputs": [],
   "source": [
    "pd.set_option('display.max_colwidth', None)"
   ]
  },
  {
   "cell_type": "code",
   "execution_count": 4,
   "id": "40a44522-07b5-4b11-a44a-064e6461a62e",
   "metadata": {},
   "outputs": [],
   "source": [
    "df = pd.read_csv(f'{proj_dir}/stanford-cars/data/train.csv', usecols=['image', 'Class', 'Class Name'])"
   ]
  },
  {
   "cell_type": "code",
   "execution_count": 5,
   "id": "6d530f33-5a5e-4a69-895f-84001b76e6c7",
   "metadata": {},
   "outputs": [],
   "source": [
    "df['Ground Truth Year'] = df['Class Name'].apply(gpt_utils.extract_ground_truth_year)"
   ]
  },
  {
   "cell_type": "code",
   "execution_count": 6,
   "id": "835971dc-f02f-4cdc-8032-c050e10d4edb",
   "metadata": {},
   "outputs": [
    {
     "data": {
      "text/html": [
       "<div>\n",
       "<style scoped>\n",
       "    .dataframe tbody tr th:only-of-type {\n",
       "        vertical-align: middle;\n",
       "    }\n",
       "\n",
       "    .dataframe tbody tr th {\n",
       "        vertical-align: top;\n",
       "    }\n",
       "\n",
       "    .dataframe thead th {\n",
       "        text-align: right;\n",
       "    }\n",
       "</style>\n",
       "<table border=\"1\" class=\"dataframe\">\n",
       "  <thead>\n",
       "    <tr style=\"text-align: right;\">\n",
       "      <th></th>\n",
       "      <th>Class</th>\n",
       "      <th>image</th>\n",
       "      <th>Class Name</th>\n",
       "      <th>Ground Truth Year</th>\n",
       "    </tr>\n",
       "  </thead>\n",
       "  <tbody>\n",
       "    <tr>\n",
       "      <th>0</th>\n",
       "      <td>178</td>\n",
       "      <td>07149.jpg</td>\n",
       "      <td>Scion xD Hatchback 2012</td>\n",
       "      <td>2012</td>\n",
       "    </tr>\n",
       "    <tr>\n",
       "      <th>1</th>\n",
       "      <td>24</td>\n",
       "      <td>06852.jpg</td>\n",
       "      <td>Audi S4 Sedan 2007</td>\n",
       "      <td>2007</td>\n",
       "    </tr>\n",
       "    <tr>\n",
       "      <th>2</th>\n",
       "      <td>115</td>\n",
       "      <td>06627.jpg</td>\n",
       "      <td>Ford Focus Sedan 2007</td>\n",
       "      <td>2007</td>\n",
       "    </tr>\n",
       "    <tr>\n",
       "      <th>3</th>\n",
       "      <td>4</td>\n",
       "      <td>06099.jpg</td>\n",
       "      <td>Acura TL Type-S 2008</td>\n",
       "      <td>2008</td>\n",
       "    </tr>\n",
       "    <tr>\n",
       "      <th>4</th>\n",
       "      <td>105</td>\n",
       "      <td>05651.jpg</td>\n",
       "      <td>Fisker Karma Sedan 2012</td>\n",
       "      <td>2012</td>\n",
       "    </tr>\n",
       "  </tbody>\n",
       "</table>\n",
       "</div>"
      ],
      "text/plain": [
       "   Class      image               Class Name  Ground Truth Year\n",
       "0    178  07149.jpg  Scion xD Hatchback 2012               2012\n",
       "1     24  06852.jpg       Audi S4 Sedan 2007               2007\n",
       "2    115  06627.jpg    Ford Focus Sedan 2007               2007\n",
       "3      4  06099.jpg     Acura TL Type-S 2008               2008\n",
       "4    105  05651.jpg  Fisker Karma Sedan 2012               2012"
      ]
     },
     "execution_count": 6,
     "metadata": {},
     "output_type": "execute_result"
    }
   ],
   "source": [
    "df.head()"
   ]
  },
  {
   "cell_type": "code",
   "execution_count": 7,
   "id": "0f55d1b0-b616-4148-9a7f-61d9b404dbee",
   "metadata": {},
   "outputs": [
    {
     "data": {
      "text/plain": [
       "Ground Truth Year\n",
       "2012    3373\n",
       "2007     742\n",
       "2009     377\n",
       "2010     289\n",
       "2011     217\n",
       "2008     198\n",
       "1993      98\n",
       "1994      90\n",
       "1998      64\n",
       "2001      63\n",
       "1991      32\n",
       "2006      32\n",
       "2000      32\n",
       "2002      31\n",
       "1999      31\n",
       "1997      31\n",
       "Name: count, dtype: int64"
      ]
     },
     "execution_count": 7,
     "metadata": {},
     "output_type": "execute_result"
    }
   ],
   "source": [
    "df['Ground Truth Year'].value_counts()"
   ]
  },
  {
   "cell_type": "markdown",
   "id": "606fc57c-cd2a-4ac4-807d-de8603b559ab",
   "metadata": {},
   "source": [
    "## Baseline Model Predictions"
   ]
  },
  {
   "cell_type": "code",
   "execution_count": 8,
   "id": "cfa56f5c-977e-403f-9d7a-a5d94ba9ca18",
   "metadata": {},
   "outputs": [],
   "source": [
    "df_responses_base_model = pd.read_csv('results/responses_base_model.csv')"
   ]
  },
  {
   "cell_type": "code",
   "execution_count": 9,
   "id": "a8c42c70-d313-41ca-8e95-4522a94a6363",
   "metadata": {},
   "outputs": [
    {
     "data": {
      "text/html": [
       "<div>\n",
       "<style scoped>\n",
       "    .dataframe tbody tr th:only-of-type {\n",
       "        vertical-align: middle;\n",
       "    }\n",
       "\n",
       "    .dataframe tbody tr th {\n",
       "        vertical-align: top;\n",
       "    }\n",
       "\n",
       "    .dataframe thead th {\n",
       "        text-align: right;\n",
       "    }\n",
       "</style>\n",
       "<table border=\"1\" class=\"dataframe\">\n",
       "  <thead>\n",
       "    <tr style=\"text-align: right;\">\n",
       "      <th></th>\n",
       "      <th>id</th>\n",
       "      <th>custom_id</th>\n",
       "      <th>response</th>\n",
       "      <th>error</th>\n",
       "    </tr>\n",
       "  </thead>\n",
       "  <tbody>\n",
       "    <tr>\n",
       "      <th>0</th>\n",
       "      <td>batch_req_671ad6496b9c81909457a466174159bf</td>\n",
       "      <td>1206</td>\n",
       "      <td>{'status_code': 200, 'request_id': '77ff28725bc37e326dd265317c9159f9', 'body': {'id': 'chatcmpl-AM1P4e5M2BN1gT1MayH4vP3hVJjGZ', 'object': 'chat.completion', 'created': 1729811974, 'model': 'gpt-4o-2024-08-06', 'choices': [{'index': 0, 'message': {'role': 'assistant', 'content': 'The car in the image is a 2011 BMW.', 'refusal': None}, 'logprobs': None, 'finish_reason': 'stop'}], 'usage': {'prompt_tokens': 460, 'completion_tokens': 12, 'total_tokens': 472, 'prompt_tokens_details': {'cached_tokens': 0}, 'completion_tokens_details': {'reasoning_tokens': 0}}, 'system_fingerprint': 'fp_72bbfa6014'}}</td>\n",
       "      <td>NaN</td>\n",
       "    </tr>\n",
       "    <tr>\n",
       "      <th>1</th>\n",
       "      <td>batch_req_671ad6497b98819097667b34d685caf9</td>\n",
       "      <td>6497</td>\n",
       "      <td>{'status_code': 200, 'request_id': '36f48b737e0f2b776904076439c36c5b', 'body': {'id': 'chatcmpl-AM1P9uicfSSbywidrw6JAeVZffpOM', 'object': 'chat.completion', 'created': 1729811979, 'model': 'gpt-4o-2024-08-06', 'choices': [{'index': 0, 'message': {'role': 'assistant', 'content': 'The car in the image appears to be a Honda Odyssey from the model years 2011 to 2013.', 'refusal': None}, 'logprobs': None, 'finish_reason': 'stop'}], 'usage': {'prompt_tokens': 460, 'completion_tokens': 23, 'total_tokens': 483, 'prompt_tokens_details': {'cached_tokens': 0}, 'completion_tokens_details': {'reasoning_tokens': 0}}, 'system_fingerprint': 'fp_72bbfa6014'}}</td>\n",
       "      <td>NaN</td>\n",
       "    </tr>\n",
       "  </tbody>\n",
       "</table>\n",
       "</div>"
      ],
      "text/plain": [
       "                                           id  custom_id  \\\n",
       "0  batch_req_671ad6496b9c81909457a466174159bf       1206   \n",
       "1  batch_req_671ad6497b98819097667b34d685caf9       6497   \n",
       "\n",
       "                                                                                                                                                                                                                                                                                                                                                                                                                                                                                                                                                                                                                                                                     response  \\\n",
       "0                                                    {'status_code': 200, 'request_id': '77ff28725bc37e326dd265317c9159f9', 'body': {'id': 'chatcmpl-AM1P4e5M2BN1gT1MayH4vP3hVJjGZ', 'object': 'chat.completion', 'created': 1729811974, 'model': 'gpt-4o-2024-08-06', 'choices': [{'index': 0, 'message': {'role': 'assistant', 'content': 'The car in the image is a 2011 BMW.', 'refusal': None}, 'logprobs': None, 'finish_reason': 'stop'}], 'usage': {'prompt_tokens': 460, 'completion_tokens': 12, 'total_tokens': 472, 'prompt_tokens_details': {'cached_tokens': 0}, 'completion_tokens_details': {'reasoning_tokens': 0}}, 'system_fingerprint': 'fp_72bbfa6014'}}   \n",
       "1  {'status_code': 200, 'request_id': '36f48b737e0f2b776904076439c36c5b', 'body': {'id': 'chatcmpl-AM1P9uicfSSbywidrw6JAeVZffpOM', 'object': 'chat.completion', 'created': 1729811979, 'model': 'gpt-4o-2024-08-06', 'choices': [{'index': 0, 'message': {'role': 'assistant', 'content': 'The car in the image appears to be a Honda Odyssey from the model years 2011 to 2013.', 'refusal': None}, 'logprobs': None, 'finish_reason': 'stop'}], 'usage': {'prompt_tokens': 460, 'completion_tokens': 23, 'total_tokens': 483, 'prompt_tokens_details': {'cached_tokens': 0}, 'completion_tokens_details': {'reasoning_tokens': 0}}, 'system_fingerprint': 'fp_72bbfa6014'}}   \n",
       "\n",
       "   error  \n",
       "0    NaN  \n",
       "1    NaN  "
      ]
     },
     "execution_count": 9,
     "metadata": {},
     "output_type": "execute_result"
    }
   ],
   "source": [
    "df_responses_base_model.head(2)"
   ]
  },
  {
   "cell_type": "code",
   "execution_count": 10,
   "id": "ac4d2658-b114-45d2-baaa-f7ac4a435850",
   "metadata": {
    "scrolled": true
   },
   "outputs": [],
   "source": [
    "df_responses_base_model = gpt_utils.post_process(df_responses_base_model)"
   ]
  },
  {
   "cell_type": "code",
   "execution_count": 11,
   "id": "55a59936-2613-4402-827f-3cbd9b73d5d9",
   "metadata": {},
   "outputs": [
    {
     "data": {
      "text/html": [
       "<div>\n",
       "<style scoped>\n",
       "    .dataframe tbody tr th:only-of-type {\n",
       "        vertical-align: middle;\n",
       "    }\n",
       "\n",
       "    .dataframe tbody tr th {\n",
       "        vertical-align: top;\n",
       "    }\n",
       "\n",
       "    .dataframe thead th {\n",
       "        text-align: right;\n",
       "    }\n",
       "</style>\n",
       "<table border=\"1\" class=\"dataframe\">\n",
       "  <thead>\n",
       "    <tr style=\"text-align: right;\">\n",
       "      <th></th>\n",
       "      <th>index</th>\n",
       "      <th>id</th>\n",
       "      <th>custom_id</th>\n",
       "      <th>response</th>\n",
       "      <th>error</th>\n",
       "      <th>content</th>\n",
       "      <th>extracted_years</th>\n",
       "    </tr>\n",
       "  </thead>\n",
       "  <tbody>\n",
       "    <tr>\n",
       "      <th>0</th>\n",
       "      <td>0</td>\n",
       "      <td>batch_req_671ad6496b9c81909457a466174159bf</td>\n",
       "      <td>1206</td>\n",
       "      <td>{'status_code': 200, 'request_id': '77ff28725bc37e326dd265317c9159f9', 'body': {'id': 'chatcmpl-AM1P4e5M2BN1gT1MayH4vP3hVJjGZ', 'object': 'chat.completion', 'created': 1729811974, 'model': 'gpt-4o-2024-08-06', 'choices': [{'index': 0, 'message': {'role': 'assistant', 'content': 'The car in the image is a 2011 BMW.', 'refusal': None}, 'logprobs': None, 'finish_reason': 'stop'}], 'usage': {'prompt_tokens': 460, 'completion_tokens': 12, 'total_tokens': 472, 'prompt_tokens_details': {'cached_tokens': 0}, 'completion_tokens_details': {'reasoning_tokens': 0}}, 'system_fingerprint': 'fp_72bbfa6014'}}</td>\n",
       "      <td>NaN</td>\n",
       "      <td>The car in the image is a 2011 BMW.</td>\n",
       "      <td>[2011]</td>\n",
       "    </tr>\n",
       "    <tr>\n",
       "      <th>1</th>\n",
       "      <td>1</td>\n",
       "      <td>batch_req_671ad6497b98819097667b34d685caf9</td>\n",
       "      <td>6497</td>\n",
       "      <td>{'status_code': 200, 'request_id': '36f48b737e0f2b776904076439c36c5b', 'body': {'id': 'chatcmpl-AM1P9uicfSSbywidrw6JAeVZffpOM', 'object': 'chat.completion', 'created': 1729811979, 'model': 'gpt-4o-2024-08-06', 'choices': [{'index': 0, 'message': {'role': 'assistant', 'content': 'The car in the image appears to be a Honda Odyssey from the model years 2011 to 2013.', 'refusal': None}, 'logprobs': None, 'finish_reason': 'stop'}], 'usage': {'prompt_tokens': 460, 'completion_tokens': 23, 'total_tokens': 483, 'prompt_tokens_details': {'cached_tokens': 0}, 'completion_tokens_details': {'reasoning_tokens': 0}}, 'system_fingerprint': 'fp_72bbfa6014'}}</td>\n",
       "      <td>NaN</td>\n",
       "      <td>The car in the image appears to be a Honda Odyssey from the model years 2011 to 2013.</td>\n",
       "      <td>[2011, 2012, 2013]</td>\n",
       "    </tr>\n",
       "  </tbody>\n",
       "</table>\n",
       "</div>"
      ],
      "text/plain": [
       "   index                                          id  custom_id  \\\n",
       "0      0  batch_req_671ad6496b9c81909457a466174159bf       1206   \n",
       "1      1  batch_req_671ad6497b98819097667b34d685caf9       6497   \n",
       "\n",
       "                                                                                                                                                                                                                                                                                                                                                                                                                                                                                                                                                                                                                                                                     response  \\\n",
       "0                                                    {'status_code': 200, 'request_id': '77ff28725bc37e326dd265317c9159f9', 'body': {'id': 'chatcmpl-AM1P4e5M2BN1gT1MayH4vP3hVJjGZ', 'object': 'chat.completion', 'created': 1729811974, 'model': 'gpt-4o-2024-08-06', 'choices': [{'index': 0, 'message': {'role': 'assistant', 'content': 'The car in the image is a 2011 BMW.', 'refusal': None}, 'logprobs': None, 'finish_reason': 'stop'}], 'usage': {'prompt_tokens': 460, 'completion_tokens': 12, 'total_tokens': 472, 'prompt_tokens_details': {'cached_tokens': 0}, 'completion_tokens_details': {'reasoning_tokens': 0}}, 'system_fingerprint': 'fp_72bbfa6014'}}   \n",
       "1  {'status_code': 200, 'request_id': '36f48b737e0f2b776904076439c36c5b', 'body': {'id': 'chatcmpl-AM1P9uicfSSbywidrw6JAeVZffpOM', 'object': 'chat.completion', 'created': 1729811979, 'model': 'gpt-4o-2024-08-06', 'choices': [{'index': 0, 'message': {'role': 'assistant', 'content': 'The car in the image appears to be a Honda Odyssey from the model years 2011 to 2013.', 'refusal': None}, 'logprobs': None, 'finish_reason': 'stop'}], 'usage': {'prompt_tokens': 460, 'completion_tokens': 23, 'total_tokens': 483, 'prompt_tokens_details': {'cached_tokens': 0}, 'completion_tokens_details': {'reasoning_tokens': 0}}, 'system_fingerprint': 'fp_72bbfa6014'}}   \n",
       "\n",
       "   error  \\\n",
       "0    NaN   \n",
       "1    NaN   \n",
       "\n",
       "                                                                                 content  \\\n",
       "0                                                    The car in the image is a 2011 BMW.   \n",
       "1  The car in the image appears to be a Honda Odyssey from the model years 2011 to 2013.   \n",
       "\n",
       "      extracted_years  \n",
       "0              [2011]  \n",
       "1  [2011, 2012, 2013]  "
      ]
     },
     "execution_count": 11,
     "metadata": {},
     "output_type": "execute_result"
    }
   ],
   "source": [
    "df_responses_base_model.head(2)"
   ]
  },
  {
   "cell_type": "code",
   "execution_count": 12,
   "id": "4c75daee-ee52-44b3-b3d4-f3a96cde7f3d",
   "metadata": {},
   "outputs": [
    {
     "name": "stdout",
     "output_type": "stream",
     "text": [
      "   index Ground Truth Year                       extracted_years\n",
      "0      0              2012                                [2011]\n",
      "1      1              2012                    [2011, 2012, 2013]\n",
      "2      2              2012              [2009, 2010, 2011, 2012]\n",
      "3      3              2012  [2008, 2009, 2010, 2011, 2012, 2013]\n",
      "4      4              2012                                [2010]\n"
     ]
    }
   ],
   "source": [
    "# Merge with labels\n",
    "\n",
    "# Load labels from JSON file\n",
    "with open('data/fine-tune/test_labels.json', 'r') as f:\n",
    "    labels_dict = json.load(f)\n",
    "\n",
    "# Convert labels_dict to a DataFrame\n",
    "labels_df = pd.DataFrame(list(labels_dict.items()), columns=['index', 'Ground Truth Year'])\n",
    "labels_df['index'] = labels_df['index'].astype(int)\n",
    "labels_df['Ground Truth Year'] = labels_df['Ground Truth Year'].astype(str)\n",
    "\n",
    "merged_df = pd.merge(df_responses_base_model, labels_df, on='index', how='left')"
   ]
  },
  {
   "cell_type": "code",
   "execution_count": 13,
   "id": "24f1c396-fb17-496c-aaec-c37882d8c8fd",
   "metadata": {},
   "outputs": [],
   "source": [
    "merged_df['Correct Prediction'] = merged_df.apply(lambda x: gpt_utils.is_correct_prediction(x['Ground Truth Year'], x['extracted_years']), \n",
    "                                              axis=1)"
   ]
  },
  {
   "cell_type": "code",
   "execution_count": 15,
   "id": "3d9d89c3-bc9f-4e6d-bc5a-3f3941501189",
   "metadata": {},
   "outputs": [
    {
     "name": "stdout",
     "output_type": "stream",
     "text": [
      "Accuracy: 77.50%\n"
     ]
    }
   ],
   "source": [
    "accuracy = merged_df['Correct Prediction'].mean()\n",
    "print(f\"Accuracy: {accuracy * 100:.2f}%\")"
   ]
  },
  {
   "cell_type": "code",
   "execution_count": 16,
   "id": "d670aa53-b67a-449f-92ac-df88a26b0f24",
   "metadata": {},
   "outputs": [
    {
     "data": {
      "text/html": [
       "<div>\n",
       "<style scoped>\n",
       "    .dataframe tbody tr th:only-of-type {\n",
       "        vertical-align: middle;\n",
       "    }\n",
       "\n",
       "    .dataframe tbody tr th {\n",
       "        vertical-align: top;\n",
       "    }\n",
       "\n",
       "    .dataframe thead th {\n",
       "        text-align: right;\n",
       "    }\n",
       "</style>\n",
       "<table border=\"1\" class=\"dataframe\">\n",
       "  <thead>\n",
       "    <tr style=\"text-align: right;\">\n",
       "      <th></th>\n",
       "      <th>index</th>\n",
       "      <th>id</th>\n",
       "      <th>custom_id</th>\n",
       "      <th>response</th>\n",
       "      <th>error</th>\n",
       "      <th>content</th>\n",
       "      <th>extracted_years</th>\n",
       "      <th>Ground Truth Year</th>\n",
       "      <th>Correct Prediction</th>\n",
       "    </tr>\n",
       "  </thead>\n",
       "  <tbody>\n",
       "    <tr>\n",
       "      <th>0</th>\n",
       "      <td>0</td>\n",
       "      <td>batch_req_671ad6496b9c81909457a466174159bf</td>\n",
       "      <td>1206</td>\n",
       "      <td>{'status_code': 200, 'request_id': '77ff28725bc37e326dd265317c9159f9', 'body': {'id': 'chatcmpl-AM1P4e5M2BN1gT1MayH4vP3hVJjGZ', 'object': 'chat.completion', 'created': 1729811974, 'model': 'gpt-4o-2024-08-06', 'choices': [{'index': 0, 'message': {'role': 'assistant', 'content': 'The car in the image is a 2011 BMW.', 'refusal': None}, 'logprobs': None, 'finish_reason': 'stop'}], 'usage': {'prompt_tokens': 460, 'completion_tokens': 12, 'total_tokens': 472, 'prompt_tokens_details': {'cached_tokens': 0}, 'completion_tokens_details': {'reasoning_tokens': 0}}, 'system_fingerprint': 'fp_72bbfa6014'}}</td>\n",
       "      <td>NaN</td>\n",
       "      <td>The car in the image is a 2011 BMW.</td>\n",
       "      <td>[2011]</td>\n",
       "      <td>2012</td>\n",
       "      <td>False</td>\n",
       "    </tr>\n",
       "    <tr>\n",
       "      <th>1</th>\n",
       "      <td>1</td>\n",
       "      <td>batch_req_671ad6497b98819097667b34d685caf9</td>\n",
       "      <td>6497</td>\n",
       "      <td>{'status_code': 200, 'request_id': '36f48b737e0f2b776904076439c36c5b', 'body': {'id': 'chatcmpl-AM1P9uicfSSbywidrw6JAeVZffpOM', 'object': 'chat.completion', 'created': 1729811979, 'model': 'gpt-4o-2024-08-06', 'choices': [{'index': 0, 'message': {'role': 'assistant', 'content': 'The car in the image appears to be a Honda Odyssey from the model years 2011 to 2013.', 'refusal': None}, 'logprobs': None, 'finish_reason': 'stop'}], 'usage': {'prompt_tokens': 460, 'completion_tokens': 23, 'total_tokens': 483, 'prompt_tokens_details': {'cached_tokens': 0}, 'completion_tokens_details': {'reasoning_tokens': 0}}, 'system_fingerprint': 'fp_72bbfa6014'}}</td>\n",
       "      <td>NaN</td>\n",
       "      <td>The car in the image appears to be a Honda Odyssey from the model years 2011 to 2013.</td>\n",
       "      <td>[2011, 2012, 2013]</td>\n",
       "      <td>2012</td>\n",
       "      <td>True</td>\n",
       "    </tr>\n",
       "  </tbody>\n",
       "</table>\n",
       "</div>"
      ],
      "text/plain": [
       "   index                                          id  custom_id  \\\n",
       "0      0  batch_req_671ad6496b9c81909457a466174159bf       1206   \n",
       "1      1  batch_req_671ad6497b98819097667b34d685caf9       6497   \n",
       "\n",
       "                                                                                                                                                                                                                                                                                                                                                                                                                                                                                                                                                                                                                                                                     response  \\\n",
       "0                                                    {'status_code': 200, 'request_id': '77ff28725bc37e326dd265317c9159f9', 'body': {'id': 'chatcmpl-AM1P4e5M2BN1gT1MayH4vP3hVJjGZ', 'object': 'chat.completion', 'created': 1729811974, 'model': 'gpt-4o-2024-08-06', 'choices': [{'index': 0, 'message': {'role': 'assistant', 'content': 'The car in the image is a 2011 BMW.', 'refusal': None}, 'logprobs': None, 'finish_reason': 'stop'}], 'usage': {'prompt_tokens': 460, 'completion_tokens': 12, 'total_tokens': 472, 'prompt_tokens_details': {'cached_tokens': 0}, 'completion_tokens_details': {'reasoning_tokens': 0}}, 'system_fingerprint': 'fp_72bbfa6014'}}   \n",
       "1  {'status_code': 200, 'request_id': '36f48b737e0f2b776904076439c36c5b', 'body': {'id': 'chatcmpl-AM1P9uicfSSbywidrw6JAeVZffpOM', 'object': 'chat.completion', 'created': 1729811979, 'model': 'gpt-4o-2024-08-06', 'choices': [{'index': 0, 'message': {'role': 'assistant', 'content': 'The car in the image appears to be a Honda Odyssey from the model years 2011 to 2013.', 'refusal': None}, 'logprobs': None, 'finish_reason': 'stop'}], 'usage': {'prompt_tokens': 460, 'completion_tokens': 23, 'total_tokens': 483, 'prompt_tokens_details': {'cached_tokens': 0}, 'completion_tokens_details': {'reasoning_tokens': 0}}, 'system_fingerprint': 'fp_72bbfa6014'}}   \n",
       "\n",
       "   error  \\\n",
       "0    NaN   \n",
       "1    NaN   \n",
       "\n",
       "                                                                                 content  \\\n",
       "0                                                    The car in the image is a 2011 BMW.   \n",
       "1  The car in the image appears to be a Honda Odyssey from the model years 2011 to 2013.   \n",
       "\n",
       "      extracted_years Ground Truth Year  Correct Prediction  \n",
       "0              [2011]              2012               False  \n",
       "1  [2011, 2012, 2013]              2012                True  "
      ]
     },
     "execution_count": 16,
     "metadata": {},
     "output_type": "execute_result"
    }
   ],
   "source": [
    "merged_df.head(2)"
   ]
  },
  {
   "cell_type": "code",
   "execution_count": 17,
   "id": "24599304-8214-4ea6-8ed4-31ce3b2dc4d8",
   "metadata": {},
   "outputs": [],
   "source": [
    "# Convert 'custom_id' to string type before using string methods\n",
    "merged_df['image_id'] = merged_df['custom_id'].astype(str).str.extract(r'(\\d+)').astype(int)"
   ]
  },
  {
   "cell_type": "code",
   "execution_count": 18,
   "id": "7dd7aa59-c0d7-4ce6-982c-88df8244a566",
   "metadata": {},
   "outputs": [
    {
     "data": {
      "text/html": [
       "<div>\n",
       "<style scoped>\n",
       "    .dataframe tbody tr th:only-of-type {\n",
       "        vertical-align: middle;\n",
       "    }\n",
       "\n",
       "    .dataframe tbody tr th {\n",
       "        vertical-align: top;\n",
       "    }\n",
       "\n",
       "    .dataframe thead th {\n",
       "        text-align: right;\n",
       "    }\n",
       "</style>\n",
       "<table border=\"1\" class=\"dataframe\">\n",
       "  <thead>\n",
       "    <tr style=\"text-align: right;\">\n",
       "      <th></th>\n",
       "      <th>index</th>\n",
       "      <th>id</th>\n",
       "      <th>custom_id</th>\n",
       "      <th>response</th>\n",
       "      <th>error</th>\n",
       "      <th>content</th>\n",
       "      <th>extracted_years</th>\n",
       "      <th>Ground Truth Year</th>\n",
       "      <th>Correct Prediction</th>\n",
       "      <th>image_id</th>\n",
       "    </tr>\n",
       "  </thead>\n",
       "  <tbody>\n",
       "    <tr>\n",
       "      <th>0</th>\n",
       "      <td>0</td>\n",
       "      <td>batch_req_671ad6496b9c81909457a466174159bf</td>\n",
       "      <td>1206</td>\n",
       "      <td>{'status_code': 200, 'request_id': '77ff28725bc37e326dd265317c9159f9', 'body': {'id': 'chatcmpl-AM1P4e5M2BN1gT1MayH4vP3hVJjGZ', 'object': 'chat.completion', 'created': 1729811974, 'model': 'gpt-4o-2024-08-06', 'choices': [{'index': 0, 'message': {'role': 'assistant', 'content': 'The car in the image is a 2011 BMW.', 'refusal': None}, 'logprobs': None, 'finish_reason': 'stop'}], 'usage': {'prompt_tokens': 460, 'completion_tokens': 12, 'total_tokens': 472, 'prompt_tokens_details': {'cached_tokens': 0}, 'completion_tokens_details': {'reasoning_tokens': 0}}, 'system_fingerprint': 'fp_72bbfa6014'}}</td>\n",
       "      <td>NaN</td>\n",
       "      <td>The car in the image is a 2011 BMW.</td>\n",
       "      <td>[2011]</td>\n",
       "      <td>2012</td>\n",
       "      <td>False</td>\n",
       "      <td>1206</td>\n",
       "    </tr>\n",
       "    <tr>\n",
       "      <th>1</th>\n",
       "      <td>1</td>\n",
       "      <td>batch_req_671ad6497b98819097667b34d685caf9</td>\n",
       "      <td>6497</td>\n",
       "      <td>{'status_code': 200, 'request_id': '36f48b737e0f2b776904076439c36c5b', 'body': {'id': 'chatcmpl-AM1P9uicfSSbywidrw6JAeVZffpOM', 'object': 'chat.completion', 'created': 1729811979, 'model': 'gpt-4o-2024-08-06', 'choices': [{'index': 0, 'message': {'role': 'assistant', 'content': 'The car in the image appears to be a Honda Odyssey from the model years 2011 to 2013.', 'refusal': None}, 'logprobs': None, 'finish_reason': 'stop'}], 'usage': {'prompt_tokens': 460, 'completion_tokens': 23, 'total_tokens': 483, 'prompt_tokens_details': {'cached_tokens': 0}, 'completion_tokens_details': {'reasoning_tokens': 0}}, 'system_fingerprint': 'fp_72bbfa6014'}}</td>\n",
       "      <td>NaN</td>\n",
       "      <td>The car in the image appears to be a Honda Odyssey from the model years 2011 to 2013.</td>\n",
       "      <td>[2011, 2012, 2013]</td>\n",
       "      <td>2012</td>\n",
       "      <td>True</td>\n",
       "      <td>6497</td>\n",
       "    </tr>\n",
       "  </tbody>\n",
       "</table>\n",
       "</div>"
      ],
      "text/plain": [
       "   index                                          id  custom_id  \\\n",
       "0      0  batch_req_671ad6496b9c81909457a466174159bf       1206   \n",
       "1      1  batch_req_671ad6497b98819097667b34d685caf9       6497   \n",
       "\n",
       "                                                                                                                                                                                                                                                                                                                                                                                                                                                                                                                                                                                                                                                                     response  \\\n",
       "0                                                    {'status_code': 200, 'request_id': '77ff28725bc37e326dd265317c9159f9', 'body': {'id': 'chatcmpl-AM1P4e5M2BN1gT1MayH4vP3hVJjGZ', 'object': 'chat.completion', 'created': 1729811974, 'model': 'gpt-4o-2024-08-06', 'choices': [{'index': 0, 'message': {'role': 'assistant', 'content': 'The car in the image is a 2011 BMW.', 'refusal': None}, 'logprobs': None, 'finish_reason': 'stop'}], 'usage': {'prompt_tokens': 460, 'completion_tokens': 12, 'total_tokens': 472, 'prompt_tokens_details': {'cached_tokens': 0}, 'completion_tokens_details': {'reasoning_tokens': 0}}, 'system_fingerprint': 'fp_72bbfa6014'}}   \n",
       "1  {'status_code': 200, 'request_id': '36f48b737e0f2b776904076439c36c5b', 'body': {'id': 'chatcmpl-AM1P9uicfSSbywidrw6JAeVZffpOM', 'object': 'chat.completion', 'created': 1729811979, 'model': 'gpt-4o-2024-08-06', 'choices': [{'index': 0, 'message': {'role': 'assistant', 'content': 'The car in the image appears to be a Honda Odyssey from the model years 2011 to 2013.', 'refusal': None}, 'logprobs': None, 'finish_reason': 'stop'}], 'usage': {'prompt_tokens': 460, 'completion_tokens': 23, 'total_tokens': 483, 'prompt_tokens_details': {'cached_tokens': 0}, 'completion_tokens_details': {'reasoning_tokens': 0}}, 'system_fingerprint': 'fp_72bbfa6014'}}   \n",
       "\n",
       "   error  \\\n",
       "0    NaN   \n",
       "1    NaN   \n",
       "\n",
       "                                                                                 content  \\\n",
       "0                                                    The car in the image is a 2011 BMW.   \n",
       "1  The car in the image appears to be a Honda Odyssey from the model years 2011 to 2013.   \n",
       "\n",
       "      extracted_years Ground Truth Year  Correct Prediction  image_id  \n",
       "0              [2011]              2012               False      1206  \n",
       "1  [2011, 2012, 2013]              2012                True      6497  "
      ]
     },
     "execution_count": 18,
     "metadata": {},
     "output_type": "execute_result"
    }
   ],
   "source": [
    "merged_df.head(2)"
   ]
  },
  {
   "cell_type": "code",
   "execution_count": 19,
   "id": "3640b0f4-db8b-46b8-8e02-712ddc633f7f",
   "metadata": {},
   "outputs": [],
   "source": [
    "df['image_id'] = df['image'].str.extract(r'(\\d+)').astype(int)"
   ]
  },
  {
   "cell_type": "code",
   "execution_count": 20,
   "id": "6ed9e3ea-6d9e-4d71-9877-2c64423256f0",
   "metadata": {},
   "outputs": [],
   "source": [
    "final_df = pd.merge(merged_df, df[['image_id', 'Class Name']], on='image_id', how='left')"
   ]
  },
  {
   "cell_type": "code",
   "execution_count": 21,
   "id": "78ecc937-e68f-4ebf-8f96-d8d9f92665c6",
   "metadata": {},
   "outputs": [
    {
     "data": {
      "text/html": [
       "<div>\n",
       "<style scoped>\n",
       "    .dataframe tbody tr th:only-of-type {\n",
       "        vertical-align: middle;\n",
       "    }\n",
       "\n",
       "    .dataframe tbody tr th {\n",
       "        vertical-align: top;\n",
       "    }\n",
       "\n",
       "    .dataframe thead th {\n",
       "        text-align: right;\n",
       "    }\n",
       "</style>\n",
       "<table border=\"1\" class=\"dataframe\">\n",
       "  <thead>\n",
       "    <tr style=\"text-align: right;\">\n",
       "      <th></th>\n",
       "      <th>index</th>\n",
       "      <th>id</th>\n",
       "      <th>custom_id</th>\n",
       "      <th>response</th>\n",
       "      <th>error</th>\n",
       "      <th>content</th>\n",
       "      <th>extracted_years</th>\n",
       "      <th>Ground Truth Year</th>\n",
       "      <th>Correct Prediction</th>\n",
       "      <th>image_id</th>\n",
       "      <th>Class Name</th>\n",
       "    </tr>\n",
       "  </thead>\n",
       "  <tbody>\n",
       "    <tr>\n",
       "      <th>0</th>\n",
       "      <td>0</td>\n",
       "      <td>batch_req_671ad6496b9c81909457a466174159bf</td>\n",
       "      <td>1206</td>\n",
       "      <td>{'status_code': 200, 'request_id': '77ff28725bc37e326dd265317c9159f9', 'body': {'id': 'chatcmpl-AM1P4e5M2BN1gT1MayH4vP3hVJjGZ', 'object': 'chat.completion', 'created': 1729811974, 'model': 'gpt-4o-2024-08-06', 'choices': [{'index': 0, 'message': {'role': 'assistant', 'content': 'The car in the image is a 2011 BMW.', 'refusal': None}, 'logprobs': None, 'finish_reason': 'stop'}], 'usage': {'prompt_tokens': 460, 'completion_tokens': 12, 'total_tokens': 472, 'prompt_tokens_details': {'cached_tokens': 0}, 'completion_tokens_details': {'reasoning_tokens': 0}}, 'system_fingerprint': 'fp_72bbfa6014'}}</td>\n",
       "      <td>NaN</td>\n",
       "      <td>The car in the image is a 2011 BMW.</td>\n",
       "      <td>[2011]</td>\n",
       "      <td>2012</td>\n",
       "      <td>False</td>\n",
       "      <td>1206</td>\n",
       "      <td>BMW 1 Series Coupe 2012</td>\n",
       "    </tr>\n",
       "    <tr>\n",
       "      <th>1</th>\n",
       "      <td>1</td>\n",
       "      <td>batch_req_671ad6497b98819097667b34d685caf9</td>\n",
       "      <td>6497</td>\n",
       "      <td>{'status_code': 200, 'request_id': '36f48b737e0f2b776904076439c36c5b', 'body': {'id': 'chatcmpl-AM1P9uicfSSbywidrw6JAeVZffpOM', 'object': 'chat.completion', 'created': 1729811979, 'model': 'gpt-4o-2024-08-06', 'choices': [{'index': 0, 'message': {'role': 'assistant', 'content': 'The car in the image appears to be a Honda Odyssey from the model years 2011 to 2013.', 'refusal': None}, 'logprobs': None, 'finish_reason': 'stop'}], 'usage': {'prompt_tokens': 460, 'completion_tokens': 23, 'total_tokens': 483, 'prompt_tokens_details': {'cached_tokens': 0}, 'completion_tokens_details': {'reasoning_tokens': 0}}, 'system_fingerprint': 'fp_72bbfa6014'}}</td>\n",
       "      <td>NaN</td>\n",
       "      <td>The car in the image appears to be a Honda Odyssey from the model years 2011 to 2013.</td>\n",
       "      <td>[2011, 2012, 2013]</td>\n",
       "      <td>2012</td>\n",
       "      <td>True</td>\n",
       "      <td>6497</td>\n",
       "      <td>Honda Odyssey Minivan 2012</td>\n",
       "    </tr>\n",
       "  </tbody>\n",
       "</table>\n",
       "</div>"
      ],
      "text/plain": [
       "   index                                          id  custom_id  \\\n",
       "0      0  batch_req_671ad6496b9c81909457a466174159bf       1206   \n",
       "1      1  batch_req_671ad6497b98819097667b34d685caf9       6497   \n",
       "\n",
       "                                                                                                                                                                                                                                                                                                                                                                                                                                                                                                                                                                                                                                                                     response  \\\n",
       "0                                                    {'status_code': 200, 'request_id': '77ff28725bc37e326dd265317c9159f9', 'body': {'id': 'chatcmpl-AM1P4e5M2BN1gT1MayH4vP3hVJjGZ', 'object': 'chat.completion', 'created': 1729811974, 'model': 'gpt-4o-2024-08-06', 'choices': [{'index': 0, 'message': {'role': 'assistant', 'content': 'The car in the image is a 2011 BMW.', 'refusal': None}, 'logprobs': None, 'finish_reason': 'stop'}], 'usage': {'prompt_tokens': 460, 'completion_tokens': 12, 'total_tokens': 472, 'prompt_tokens_details': {'cached_tokens': 0}, 'completion_tokens_details': {'reasoning_tokens': 0}}, 'system_fingerprint': 'fp_72bbfa6014'}}   \n",
       "1  {'status_code': 200, 'request_id': '36f48b737e0f2b776904076439c36c5b', 'body': {'id': 'chatcmpl-AM1P9uicfSSbywidrw6JAeVZffpOM', 'object': 'chat.completion', 'created': 1729811979, 'model': 'gpt-4o-2024-08-06', 'choices': [{'index': 0, 'message': {'role': 'assistant', 'content': 'The car in the image appears to be a Honda Odyssey from the model years 2011 to 2013.', 'refusal': None}, 'logprobs': None, 'finish_reason': 'stop'}], 'usage': {'prompt_tokens': 460, 'completion_tokens': 23, 'total_tokens': 483, 'prompt_tokens_details': {'cached_tokens': 0}, 'completion_tokens_details': {'reasoning_tokens': 0}}, 'system_fingerprint': 'fp_72bbfa6014'}}   \n",
       "\n",
       "   error  \\\n",
       "0    NaN   \n",
       "1    NaN   \n",
       "\n",
       "                                                                                 content  \\\n",
       "0                                                    The car in the image is a 2011 BMW.   \n",
       "1  The car in the image appears to be a Honda Odyssey from the model years 2011 to 2013.   \n",
       "\n",
       "      extracted_years Ground Truth Year  Correct Prediction  image_id  \\\n",
       "0              [2011]              2012               False      1206   \n",
       "1  [2011, 2012, 2013]              2012                True      6497   \n",
       "\n",
       "                   Class Name  \n",
       "0     BMW 1 Series Coupe 2012  \n",
       "1  Honda Odyssey Minivan 2012  "
      ]
     },
     "execution_count": 21,
     "metadata": {},
     "output_type": "execute_result"
    }
   ],
   "source": [
    "final_df.head(2)"
   ]
  },
  {
   "cell_type": "code",
   "execution_count": 22,
   "id": "74ff7b60-4d99-4ecb-9bab-e9bd2e497477",
   "metadata": {},
   "outputs": [
    {
     "data": {
      "text/plain": [
       "Ground Truth Year\n",
       "2012    10\n",
       "2007    10\n",
       "2008    10\n",
       "2010    10\n",
       "2011    10\n",
       "1994    10\n",
       "2009    10\n",
       "1993    10\n",
       "2001    10\n",
       "2006    10\n",
       "2002    10\n",
       "1999    10\n",
       "1997    10\n",
       "1991    10\n",
       "1998    10\n",
       "2000    10\n",
       "Name: count, dtype: int64"
      ]
     },
     "execution_count": 22,
     "metadata": {},
     "output_type": "execute_result"
    }
   ],
   "source": [
    "final_df['Ground Truth Year'].value_counts()"
   ]
  },
  {
   "cell_type": "code",
   "execution_count": 23,
   "id": "e7c1b5e1-4506-4955-abbf-0d1c493f4463",
   "metadata": {},
   "outputs": [],
   "source": [
    "# Group by 'Class Name' and 'Correct Prediction' and count the occurrences\n",
    "confusion = final_df.groupby(['Ground Truth Year', 'Correct Prediction']).size().reset_index(name='Count')"
   ]
  },
  {
   "cell_type": "code",
   "execution_count": 24,
   "id": "c0e16431-5c59-49ba-847f-18d90660aeaf",
   "metadata": {},
   "outputs": [
    {
     "name": "stdout",
     "output_type": "stream",
     "text": [
      "Correct Prediction  False  True \n",
      "Ground Truth Year               \n",
      "1991                  0.0   10.0\n",
      "1993                  1.0    9.0\n",
      "1994                  8.0    2.0\n",
      "1997                  1.0    9.0\n",
      "1998                  0.0   10.0\n",
      "1999                  3.0    7.0\n",
      "2000                  3.0    7.0\n",
      "2001                  1.0    9.0\n",
      "2002                  6.0    4.0\n",
      "2006                  0.0   10.0\n",
      "2007                  4.0    6.0\n",
      "2008                  0.0   10.0\n",
      "2009                  1.0    9.0\n",
      "2010                  3.0    7.0\n",
      "2011                  1.0    9.0\n",
      "2012                  4.0    6.0\n"
     ]
    }
   ],
   "source": [
    "# Pivot the table to have 'Correct Prediction' as columns\n",
    "confusion_pivot = confusion.pivot(index='Ground Truth Year', columns='Correct Prediction', values='Count').fillna(0)\n",
    "\n",
    "# Ensure columns are ordered as False, True\n",
    "confusion_pivot = confusion_pivot.reindex(columns=[False, True], fill_value=0)\n",
    "\n",
    "# Print the confusion matrix-like table\n",
    "print(confusion_pivot)"
   ]
  },
  {
   "cell_type": "code",
   "execution_count": 25,
   "id": "baed2b0e-ef86-47c1-a639-46d89efb7e77",
   "metadata": {},
   "outputs": [
    {
     "name": "stdout",
     "output_type": "stream",
     "text": [
      "Correct Prediction  False  True  Total  Accuracy\n",
      "Ground Truth Year                               \n",
      "1991                  0.0  10.0   10.0       1.0\n",
      "1993                  1.0   9.0   10.0       0.9\n",
      "1994                  8.0   2.0   10.0       0.2\n",
      "1997                  1.0   9.0   10.0       0.9\n",
      "1998                  0.0  10.0   10.0       1.0\n",
      "1999                  3.0   7.0   10.0       0.7\n",
      "2000                  3.0   7.0   10.0       0.7\n",
      "2001                  1.0   9.0   10.0       0.9\n",
      "2002                  6.0   4.0   10.0       0.4\n",
      "2006                  0.0  10.0   10.0       1.0\n",
      "2007                  4.0   6.0   10.0       0.6\n",
      "2008                  0.0  10.0   10.0       1.0\n",
      "2009                  1.0   9.0   10.0       0.9\n",
      "2010                  3.0   7.0   10.0       0.7\n",
      "2011                  1.0   9.0   10.0       0.9\n",
      "2012                  4.0   6.0   10.0       0.6\n"
     ]
    }
   ],
   "source": [
    "# Compute total predictions per class\n",
    "confusion_pivot['Total'] = confusion_pivot[False] + confusion_pivot[True]\n",
    "\n",
    "# Compute accuracy per class\n",
    "confusion_pivot['Accuracy'] = confusion_pivot[True] / confusion_pivot['Total']\n",
    "\n",
    "# Display the confusion matrix with accuracy\n",
    "print(confusion_pivot[[False, True, 'Total', 'Accuracy']])"
   ]
  },
  {
   "cell_type": "markdown",
   "id": "309c9108-b153-426f-a2e5-ae6269ffd992",
   "metadata": {},
   "source": [
    "## Plot Baseline Model Accuracy Per Year"
   ]
  },
  {
   "cell_type": "code",
   "execution_count": 26,
   "id": "426a6062-f9b7-48b6-b44b-5549a96106a8",
   "metadata": {},
   "outputs": [
    {
     "data": {
      "image/png": "[encoded data removed]",
      "text/plain": [
       "<Figure size 500x500 with 1 Axes>"
      ]
     },
     "metadata": {},
     "output_type": "display_data"
    }
   ],
   "source": [
    "# Reset index to make 'Class Name' a column\n",
    "confusion_pivot_reset = confusion_pivot.reset_index()\n",
    "\n",
    "# Plot per-class accuracy\n",
    "plt.figure(figsize=(5, 5))\n",
    "plt.bar(confusion_pivot_reset['Ground Truth Year'], confusion_pivot_reset['Accuracy'])\n",
    "plt.xticks(rotation=45, ha='right')\n",
    "plt.ylabel('Accuracy')\n",
    "plt.title('Per-Year Accuracy Baseline Model')\n",
    "plt.tight_layout()\n",
    "plt.show()"
   ]
  },
  {
   "cell_type": "markdown",
   "id": "0db4b307-2155-425a-accd-f100297c862f",
   "metadata": {},
   "source": [
    "## Fine-tuned Model Predictions"
   ]
  },
  {
   "cell_type": "code",
   "execution_count": 27,
   "id": "f2f2621d-a922-42db-ad46-82e44843431c",
   "metadata": {},
   "outputs": [],
   "source": [
    "df_responses_ft_model = pd.read_csv('results/responses_ft_model.csv')"
   ]
  },
  {
   "cell_type": "code",
   "execution_count": 28,
   "id": "8e0f8c10-90b5-4858-843d-ed6c17a3144e",
   "metadata": {},
   "outputs": [
    {
     "data": {
      "text/html": [
       "<div>\n",
       "<style scoped>\n",
       "    .dataframe tbody tr th:only-of-type {\n",
       "        vertical-align: middle;\n",
       "    }\n",
       "\n",
       "    .dataframe tbody tr th {\n",
       "        vertical-align: top;\n",
       "    }\n",
       "\n",
       "    .dataframe thead th {\n",
       "        text-align: right;\n",
       "    }\n",
       "</style>\n",
       "<table border=\"1\" class=\"dataframe\">\n",
       "  <thead>\n",
       "    <tr style=\"text-align: right;\">\n",
       "      <th></th>\n",
       "      <th>id</th>\n",
       "      <th>custom_id</th>\n",
       "      <th>response</th>\n",
       "      <th>error</th>\n",
       "    </tr>\n",
       "  </thead>\n",
       "  <tbody>\n",
       "    <tr>\n",
       "      <th>0</th>\n",
       "      <td>batch_req_6723b09b37c08190b32be94fcac505de</td>\n",
       "      <td>1206</td>\n",
       "      <td>{'status_code': 200, 'request_id': '3aa64c8cb5624d185595b7ff8a4803d5', 'body': {'id': 'chatcmpl-AOSFdjkfxiiWDCrBaUEL1JPqd0Ngh', 'object': 'chat.completion', 'created': 1730391833, 'model': 'ft:gpt-4o-2024-08-06:gsb-darc-team::AOAURXbh', 'choices': [{'index': 0, 'message': {'role': 'assistant', 'content': '2011', 'refusal': None}, 'logprobs': None, 'finish_reason': 'stop'}], 'usage': {'prompt_tokens': 460, 'completion_tokens': 2, 'total_tokens': 462, 'prompt_tokens_details': {'cached_tokens': 0}, 'completion_tokens_details': {'reasoning_tokens': 0}}, 'system_fingerprint': 'fp_4da243c00f'}}</td>\n",
       "      <td>NaN</td>\n",
       "    </tr>\n",
       "    <tr>\n",
       "      <th>1</th>\n",
       "      <td>batch_req_6723b09b480c8190b0ea0db6c928c45e</td>\n",
       "      <td>6497</td>\n",
       "      <td>{'status_code': 200, 'request_id': 'c1683f7b5846df9113abecd21f01a1f3', 'body': {'id': 'chatcmpl-AOSFhbfGg2cL3MwvRbodwCrq5VTVc', 'object': 'chat.completion', 'created': 1730391837, 'model': 'ft:gpt-4o-2024-08-06:gsb-darc-team::AOAURXbh', 'choices': [{'index': 0, 'message': {'role': 'assistant', 'content': '2011', 'refusal': None}, 'logprobs': None, 'finish_reason': 'stop'}], 'usage': {'prompt_tokens': 460, 'completion_tokens': 2, 'total_tokens': 462, 'prompt_tokens_details': {'cached_tokens': 0}, 'completion_tokens_details': {'reasoning_tokens': 0}}, 'system_fingerprint': 'fp_4da243c00f'}}</td>\n",
       "      <td>NaN</td>\n",
       "    </tr>\n",
       "  </tbody>\n",
       "</table>\n",
       "</div>"
      ],
      "text/plain": [
       "                                           id  custom_id  \\\n",
       "0  batch_req_6723b09b37c08190b32be94fcac505de       1206   \n",
       "1  batch_req_6723b09b480c8190b0ea0db6c928c45e       6497   \n",
       "\n",
       "                                                                                                                                                                                                                                                                                                                                                                                                                                                                                                                                                                                                              response  \\\n",
       "0  {'status_code': 200, 'request_id': '3aa64c8cb5624d185595b7ff8a4803d5', 'body': {'id': 'chatcmpl-AOSFdjkfxiiWDCrBaUEL1JPqd0Ngh', 'object': 'chat.completion', 'created': 1730391833, 'model': 'ft:gpt-4o-2024-08-06:gsb-darc-team::AOAURXbh', 'choices': [{'index': 0, 'message': {'role': 'assistant', 'content': '2011', 'refusal': None}, 'logprobs': None, 'finish_reason': 'stop'}], 'usage': {'prompt_tokens': 460, 'completion_tokens': 2, 'total_tokens': 462, 'prompt_tokens_details': {'cached_tokens': 0}, 'completion_tokens_details': {'reasoning_tokens': 0}}, 'system_fingerprint': 'fp_4da243c00f'}}   \n",
       "1  {'status_code': 200, 'request_id': 'c1683f7b5846df9113abecd21f01a1f3', 'body': {'id': 'chatcmpl-AOSFhbfGg2cL3MwvRbodwCrq5VTVc', 'object': 'chat.completion', 'created': 1730391837, 'model': 'ft:gpt-4o-2024-08-06:gsb-darc-team::AOAURXbh', 'choices': [{'index': 0, 'message': {'role': 'assistant', 'content': '2011', 'refusal': None}, 'logprobs': None, 'finish_reason': 'stop'}], 'usage': {'prompt_tokens': 460, 'completion_tokens': 2, 'total_tokens': 462, 'prompt_tokens_details': {'cached_tokens': 0}, 'completion_tokens_details': {'reasoning_tokens': 0}}, 'system_fingerprint': 'fp_4da243c00f'}}   \n",
       "\n",
       "   error  \n",
       "0    NaN  \n",
       "1    NaN  "
      ]
     },
     "execution_count": 28,
     "metadata": {},
     "output_type": "execute_result"
    }
   ],
   "source": [
    "df_responses_ft_model.head(2)"
   ]
  },
  {
   "cell_type": "code",
   "execution_count": 31,
   "id": "78a9cf1d-1220-448d-997e-44c1179e993a",
   "metadata": {
    "scrolled": true
   },
   "outputs": [],
   "source": [
    "# Initialize a list to store extracted content\n",
    "contents = []\n",
    "\n",
    "for index, row in df_responses_ft_model.iterrows():\n",
    "    json_str = row['response']\n",
    "\n",
    "    try:\n",
    "        # Remove the starting and ending double quotes if present\n",
    "        if json_str.startswith('\"') and json_str.endswith('\"'):\n",
    "            json_str = json_str[1:-1]\n",
    "\n",
    "        # Safely evaluate the string as a Python literal\n",
    "        response_dict = ast.literal_eval(json_str)\n",
    "        # Navigate to the 'content' field\n",
    "        content = response_dict['body']['choices'][0]['message']['content']\n",
    "        # Store the content\n",
    "        contents.append(content)\n",
    "    except Exception as e:\n",
    "        # In case of parsing error, append None\n",
    "        contents.append(None)\n",
    "        print(f\"Error parsing row {index}: {e}\")\n",
    "\n",
    "# Add the extracted content to the DataFrame\n",
    "df_responses_ft_model['content'] = contents"
   ]
  },
  {
   "cell_type": "code",
   "execution_count": 32,
   "id": "ff443aca-2927-43f7-99fc-bd9c96ff5874",
   "metadata": {},
   "outputs": [
    {
     "data": {
      "text/html": [
       "<div>\n",
       "<style scoped>\n",
       "    .dataframe tbody tr th:only-of-type {\n",
       "        vertical-align: middle;\n",
       "    }\n",
       "\n",
       "    .dataframe tbody tr th {\n",
       "        vertical-align: top;\n",
       "    }\n",
       "\n",
       "    .dataframe thead th {\n",
       "        text-align: right;\n",
       "    }\n",
       "</style>\n",
       "<table border=\"1\" class=\"dataframe\">\n",
       "  <thead>\n",
       "    <tr style=\"text-align: right;\">\n",
       "      <th></th>\n",
       "      <th>id</th>\n",
       "      <th>custom_id</th>\n",
       "      <th>response</th>\n",
       "      <th>error</th>\n",
       "      <th>content</th>\n",
       "    </tr>\n",
       "  </thead>\n",
       "  <tbody>\n",
       "    <tr>\n",
       "      <th>0</th>\n",
       "      <td>batch_req_6723b09b37c08190b32be94fcac505de</td>\n",
       "      <td>1206</td>\n",
       "      <td>{'status_code': 200, 'request_id': '3aa64c8cb5624d185595b7ff8a4803d5', 'body': {'id': 'chatcmpl-AOSFdjkfxiiWDCrBaUEL1JPqd0Ngh', 'object': 'chat.completion', 'created': 1730391833, 'model': 'ft:gpt-4o-2024-08-06:gsb-darc-team::AOAURXbh', 'choices': [{'index': 0, 'message': {'role': 'assistant', 'content': '2011', 'refusal': None}, 'logprobs': None, 'finish_reason': 'stop'}], 'usage': {'prompt_tokens': 460, 'completion_tokens': 2, 'total_tokens': 462, 'prompt_tokens_details': {'cached_tokens': 0}, 'completion_tokens_details': {'reasoning_tokens': 0}}, 'system_fingerprint': 'fp_4da243c00f'}}</td>\n",
       "      <td>NaN</td>\n",
       "      <td>2011</td>\n",
       "    </tr>\n",
       "    <tr>\n",
       "      <th>1</th>\n",
       "      <td>batch_req_6723b09b480c8190b0ea0db6c928c45e</td>\n",
       "      <td>6497</td>\n",
       "      <td>{'status_code': 200, 'request_id': 'c1683f7b5846df9113abecd21f01a1f3', 'body': {'id': 'chatcmpl-AOSFhbfGg2cL3MwvRbodwCrq5VTVc', 'object': 'chat.completion', 'created': 1730391837, 'model': 'ft:gpt-4o-2024-08-06:gsb-darc-team::AOAURXbh', 'choices': [{'index': 0, 'message': {'role': 'assistant', 'content': '2011', 'refusal': None}, 'logprobs': None, 'finish_reason': 'stop'}], 'usage': {'prompt_tokens': 460, 'completion_tokens': 2, 'total_tokens': 462, 'prompt_tokens_details': {'cached_tokens': 0}, 'completion_tokens_details': {'reasoning_tokens': 0}}, 'system_fingerprint': 'fp_4da243c00f'}}</td>\n",
       "      <td>NaN</td>\n",
       "      <td>2011</td>\n",
       "    </tr>\n",
       "    <tr>\n",
       "      <th>2</th>\n",
       "      <td>batch_req_6723b09b5a9081909010375883fdb422</td>\n",
       "      <td>6436</td>\n",
       "      <td>{'status_code': 200, 'request_id': 'd5f22d97a5393fafa84c70cf2fc6c914', 'body': {'id': 'chatcmpl-AOSFkGXhfYA4NVhzryB12H5DgFefq', 'object': 'chat.completion', 'created': 1730391840, 'model': 'ft:gpt-4o-2024-08-06:gsb-darc-team::AOAURXbh', 'choices': [{'index': 0, 'message': {'role': 'assistant', 'content': '2012', 'refusal': None}, 'logprobs': None, 'finish_reason': 'stop'}], 'usage': {'prompt_tokens': 290, 'completion_tokens': 2, 'total_tokens': 292, 'prompt_tokens_details': {'cached_tokens': 0}, 'completion_tokens_details': {'reasoning_tokens': 0}}, 'system_fingerprint': 'fp_4da243c00f'}}</td>\n",
       "      <td>NaN</td>\n",
       "      <td>2012</td>\n",
       "    </tr>\n",
       "    <tr>\n",
       "      <th>3</th>\n",
       "      <td>batch_req_6723b09b69b88190992bd37b731f6ca6</td>\n",
       "      <td>2647</td>\n",
       "      <td>{'status_code': 200, 'request_id': '573920dd9c6f88adb00e6e9cac2ce82d', 'body': {'id': 'chatcmpl-AOSFnk3fVT67dBbc17NWjAhE65Axw', 'object': 'chat.completion', 'created': 1730391843, 'model': 'ft:gpt-4o-2024-08-06:gsb-darc-team::AOAURXbh', 'choices': [{'index': 0, 'message': {'role': 'assistant', 'content': '2012', 'refusal': None}, 'logprobs': None, 'finish_reason': 'stop'}], 'usage': {'prompt_tokens': 290, 'completion_tokens': 2, 'total_tokens': 292, 'prompt_tokens_details': {'cached_tokens': 0}, 'completion_tokens_details': {'reasoning_tokens': 0}}, 'system_fingerprint': 'fp_4da243c00f'}}</td>\n",
       "      <td>NaN</td>\n",
       "      <td>2012</td>\n",
       "    </tr>\n",
       "    <tr>\n",
       "      <th>4</th>\n",
       "      <td>batch_req_6723b09b784c819094ea23ef3c4978e4</td>\n",
       "      <td>5504</td>\n",
       "      <td>{'status_code': 200, 'request_id': '1d60209aa12d525781a974b491443700', 'body': {'id': 'chatcmpl-AOSFrMABmsyYLw4kssB4Wrh6MgjVx', 'object': 'chat.completion', 'created': 1730391847, 'model': 'ft:gpt-4o-2024-08-06:gsb-darc-team::AOAURXbh', 'choices': [{'index': 0, 'message': {'role': 'assistant', 'content': '2012', 'refusal': None}, 'logprobs': None, 'finish_reason': 'stop'}], 'usage': {'prompt_tokens': 460, 'completion_tokens': 2, 'total_tokens': 462, 'prompt_tokens_details': {'cached_tokens': 0}, 'completion_tokens_details': {'reasoning_tokens': 0}}, 'system_fingerprint': 'fp_4da243c00f'}}</td>\n",
       "      <td>NaN</td>\n",
       "      <td>2012</td>\n",
       "    </tr>\n",
       "  </tbody>\n",
       "</table>\n",
       "</div>"
      ],
      "text/plain": [
       "                                           id  custom_id  \\\n",
       "0  batch_req_6723b09b37c08190b32be94fcac505de       1206   \n",
       "1  batch_req_6723b09b480c8190b0ea0db6c928c45e       6497   \n",
       "2  batch_req_6723b09b5a9081909010375883fdb422       6436   \n",
       "3  batch_req_6723b09b69b88190992bd37b731f6ca6       2647   \n",
       "4  batch_req_6723b09b784c819094ea23ef3c4978e4       5504   \n",
       "\n",
       "                                                                                                                                                                                                                                                                                                                                                                                                                                                                                                                                                                                                              response  \\\n",
       "0  {'status_code': 200, 'request_id': '3aa64c8cb5624d185595b7ff8a4803d5', 'body': {'id': 'chatcmpl-AOSFdjkfxiiWDCrBaUEL1JPqd0Ngh', 'object': 'chat.completion', 'created': 1730391833, 'model': 'ft:gpt-4o-2024-08-06:gsb-darc-team::AOAURXbh', 'choices': [{'index': 0, 'message': {'role': 'assistant', 'content': '2011', 'refusal': None}, 'logprobs': None, 'finish_reason': 'stop'}], 'usage': {'prompt_tokens': 460, 'completion_tokens': 2, 'total_tokens': 462, 'prompt_tokens_details': {'cached_tokens': 0}, 'completion_tokens_details': {'reasoning_tokens': 0}}, 'system_fingerprint': 'fp_4da243c00f'}}   \n",
       "1  {'status_code': 200, 'request_id': 'c1683f7b5846df9113abecd21f01a1f3', 'body': {'id': 'chatcmpl-AOSFhbfGg2cL3MwvRbodwCrq5VTVc', 'object': 'chat.completion', 'created': 1730391837, 'model': 'ft:gpt-4o-2024-08-06:gsb-darc-team::AOAURXbh', 'choices': [{'index': 0, 'message': {'role': 'assistant', 'content': '2011', 'refusal': None}, 'logprobs': None, 'finish_reason': 'stop'}], 'usage': {'prompt_tokens': 460, 'completion_tokens': 2, 'total_tokens': 462, 'prompt_tokens_details': {'cached_tokens': 0}, 'completion_tokens_details': {'reasoning_tokens': 0}}, 'system_fingerprint': 'fp_4da243c00f'}}   \n",
       "2  {'status_code': 200, 'request_id': 'd5f22d97a5393fafa84c70cf2fc6c914', 'body': {'id': 'chatcmpl-AOSFkGXhfYA4NVhzryB12H5DgFefq', 'object': 'chat.completion', 'created': 1730391840, 'model': 'ft:gpt-4o-2024-08-06:gsb-darc-team::AOAURXbh', 'choices': [{'index': 0, 'message': {'role': 'assistant', 'content': '2012', 'refusal': None}, 'logprobs': None, 'finish_reason': 'stop'}], 'usage': {'prompt_tokens': 290, 'completion_tokens': 2, 'total_tokens': 292, 'prompt_tokens_details': {'cached_tokens': 0}, 'completion_tokens_details': {'reasoning_tokens': 0}}, 'system_fingerprint': 'fp_4da243c00f'}}   \n",
       "3  {'status_code': 200, 'request_id': '573920dd9c6f88adb00e6e9cac2ce82d', 'body': {'id': 'chatcmpl-AOSFnk3fVT67dBbc17NWjAhE65Axw', 'object': 'chat.completion', 'created': 1730391843, 'model': 'ft:gpt-4o-2024-08-06:gsb-darc-team::AOAURXbh', 'choices': [{'index': 0, 'message': {'role': 'assistant', 'content': '2012', 'refusal': None}, 'logprobs': None, 'finish_reason': 'stop'}], 'usage': {'prompt_tokens': 290, 'completion_tokens': 2, 'total_tokens': 292, 'prompt_tokens_details': {'cached_tokens': 0}, 'completion_tokens_details': {'reasoning_tokens': 0}}, 'system_fingerprint': 'fp_4da243c00f'}}   \n",
       "4  {'status_code': 200, 'request_id': '1d60209aa12d525781a974b491443700', 'body': {'id': 'chatcmpl-AOSFrMABmsyYLw4kssB4Wrh6MgjVx', 'object': 'chat.completion', 'created': 1730391847, 'model': 'ft:gpt-4o-2024-08-06:gsb-darc-team::AOAURXbh', 'choices': [{'index': 0, 'message': {'role': 'assistant', 'content': '2012', 'refusal': None}, 'logprobs': None, 'finish_reason': 'stop'}], 'usage': {'prompt_tokens': 460, 'completion_tokens': 2, 'total_tokens': 462, 'prompt_tokens_details': {'cached_tokens': 0}, 'completion_tokens_details': {'reasoning_tokens': 0}}, 'system_fingerprint': 'fp_4da243c00f'}}   \n",
       "\n",
       "   error content  \n",
       "0    NaN    2011  \n",
       "1    NaN    2011  \n",
       "2    NaN    2012  \n",
       "3    NaN    2012  \n",
       "4    NaN    2012  "
      ]
     },
     "execution_count": 32,
     "metadata": {},
     "output_type": "execute_result"
    }
   ],
   "source": [
    "df_responses_ft_model.head()"
   ]
  },
  {
   "cell_type": "code",
   "execution_count": 33,
   "id": "dbb7be7a-2e09-4942-abfe-24536ce11c48",
   "metadata": {},
   "outputs": [
    {
     "data": {
      "text/plain": [
       "(160, 5)"
      ]
     },
     "execution_count": 33,
     "metadata": {},
     "output_type": "execute_result"
    }
   ],
   "source": [
    "df_responses_ft_model.shape"
   ]
  },
  {
   "cell_type": "code",
   "execution_count": 34,
   "id": "fd85f87c-9f94-40ca-865d-a0fe626f0552",
   "metadata": {},
   "outputs": [],
   "source": [
    "df_responses_ft_model.reset_index(inplace=True)\n",
    "df_responses_ft_model['index'] = df_responses_ft_model['index'].astype(int)"
   ]
  },
  {
   "cell_type": "code",
   "execution_count": 35,
   "id": "cf95c48e-c34f-40e4-94e4-f1d3dfedb901",
   "metadata": {},
   "outputs": [
    {
     "name": "stdout",
     "output_type": "stream",
     "text": [
      "   index Ground Truth Year content\n",
      "0      0              2012    2011\n",
      "1      1              2012    2011\n",
      "2      2              2012    2012\n",
      "3      3              2012    2012\n",
      "4      4              2012    2012\n"
     ]
    }
   ],
   "source": [
    "# Merge with labels\n",
    "\n",
    "# Load labels from JSON file\n",
    "with open('data/fine-tune/test_labels.json', 'r') as f:\n",
    "    labels_dict = json.load(f)\n",
    "\n",
    "# Convert labels_dict to a DataFrame\n",
    "labels_df = pd.DataFrame(list(labels_dict.items()), columns=['index', 'Ground Truth Year'])\n",
    "labels_df['index'] = labels_df['index'].astype(int)\n",
    "labels_df['Ground Truth Year'] = labels_df['Ground Truth Year'].astype(str)\n",
    "\n",
    "merged_df = pd.merge(df_responses_ft_model, labels_df, on='index', how='left')\n",
    "\n",
    "print(merged_df[['index', 'Ground Truth Year', 'content']].head())\n"
   ]
  },
  {
   "cell_type": "code",
   "execution_count": 36,
   "id": "1b4de687-6d05-45bc-b8a6-485e2f762e87",
   "metadata": {},
   "outputs": [],
   "source": [
    "merged_df['Correct Prediction'] = merged_df.apply(lambda x: gpt_utils.is_correct_prediction(x['Ground Truth Year'], x['content']), \n",
    "                                              axis=1)"
   ]
  },
  {
   "cell_type": "code",
   "execution_count": 37,
   "id": "844c8be7-81c3-4e1e-a733-9f2a359d60f2",
   "metadata": {},
   "outputs": [
    {
     "name": "stdout",
     "output_type": "stream",
     "text": [
      "   index Ground Truth Year content  Correct Prediction\n",
      "0      0              2012    2011               False\n",
      "1      1              2012    2011               False\n",
      "2      2              2012    2012                True\n",
      "3      3              2012    2012                True\n",
      "4      4              2012    2012                True\n"
     ]
    }
   ],
   "source": [
    "print(merged_df[['index', 'Ground Truth Year', 'content', 'Correct Prediction']].head())"
   ]
  },
  {
   "cell_type": "code",
   "execution_count": 38,
   "id": "9dee7532-a14f-439b-8730-4d0c6a9a2379",
   "metadata": {},
   "outputs": [
    {
     "name": "stdout",
     "output_type": "stream",
     "text": [
      "Accuracy: 87.50%\n"
     ]
    }
   ],
   "source": [
    "accuracy = merged_df['Correct Prediction'].mean()\n",
    "print(f\"Accuracy: {accuracy * 100:.2f}%\")"
   ]
  },
  {
   "cell_type": "code",
   "execution_count": 39,
   "id": "0e772c94-28bb-4cb7-a621-39db5acf31c2",
   "metadata": {},
   "outputs": [
    {
     "data": {
      "text/html": [
       "<div>\n",
       "<style scoped>\n",
       "    .dataframe tbody tr th:only-of-type {\n",
       "        vertical-align: middle;\n",
       "    }\n",
       "\n",
       "    .dataframe tbody tr th {\n",
       "        vertical-align: top;\n",
       "    }\n",
       "\n",
       "    .dataframe thead th {\n",
       "        text-align: right;\n",
       "    }\n",
       "</style>\n",
       "<table border=\"1\" class=\"dataframe\">\n",
       "  <thead>\n",
       "    <tr style=\"text-align: right;\">\n",
       "      <th></th>\n",
       "      <th>index</th>\n",
       "      <th>id</th>\n",
       "      <th>custom_id</th>\n",
       "      <th>response</th>\n",
       "      <th>error</th>\n",
       "      <th>content</th>\n",
       "      <th>Ground Truth Year</th>\n",
       "      <th>Correct Prediction</th>\n",
       "    </tr>\n",
       "  </thead>\n",
       "  <tbody>\n",
       "    <tr>\n",
       "      <th>0</th>\n",
       "      <td>0</td>\n",
       "      <td>batch_req_6723b09b37c08190b32be94fcac505de</td>\n",
       "      <td>1206</td>\n",
       "      <td>{'status_code': 200, 'request_id': '3aa64c8cb5624d185595b7ff8a4803d5', 'body': {'id': 'chatcmpl-AOSFdjkfxiiWDCrBaUEL1JPqd0Ngh', 'object': 'chat.completion', 'created': 1730391833, 'model': 'ft:gpt-4o-2024-08-06:gsb-darc-team::AOAURXbh', 'choices': [{'index': 0, 'message': {'role': 'assistant', 'content': '2011', 'refusal': None}, 'logprobs': None, 'finish_reason': 'stop'}], 'usage': {'prompt_tokens': 460, 'completion_tokens': 2, 'total_tokens': 462, 'prompt_tokens_details': {'cached_tokens': 0}, 'completion_tokens_details': {'reasoning_tokens': 0}}, 'system_fingerprint': 'fp_4da243c00f'}}</td>\n",
       "      <td>NaN</td>\n",
       "      <td>2011</td>\n",
       "      <td>2012</td>\n",
       "      <td>False</td>\n",
       "    </tr>\n",
       "    <tr>\n",
       "      <th>1</th>\n",
       "      <td>1</td>\n",
       "      <td>batch_req_6723b09b480c8190b0ea0db6c928c45e</td>\n",
       "      <td>6497</td>\n",
       "      <td>{'status_code': 200, 'request_id': 'c1683f7b5846df9113abecd21f01a1f3', 'body': {'id': 'chatcmpl-AOSFhbfGg2cL3MwvRbodwCrq5VTVc', 'object': 'chat.completion', 'created': 1730391837, 'model': 'ft:gpt-4o-2024-08-06:gsb-darc-team::AOAURXbh', 'choices': [{'index': 0, 'message': {'role': 'assistant', 'content': '2011', 'refusal': None}, 'logprobs': None, 'finish_reason': 'stop'}], 'usage': {'prompt_tokens': 460, 'completion_tokens': 2, 'total_tokens': 462, 'prompt_tokens_details': {'cached_tokens': 0}, 'completion_tokens_details': {'reasoning_tokens': 0}}, 'system_fingerprint': 'fp_4da243c00f'}}</td>\n",
       "      <td>NaN</td>\n",
       "      <td>2011</td>\n",
       "      <td>2012</td>\n",
       "      <td>False</td>\n",
       "    </tr>\n",
       "  </tbody>\n",
       "</table>\n",
       "</div>"
      ],
      "text/plain": [
       "   index                                          id  custom_id  \\\n",
       "0      0  batch_req_6723b09b37c08190b32be94fcac505de       1206   \n",
       "1      1  batch_req_6723b09b480c8190b0ea0db6c928c45e       6497   \n",
       "\n",
       "                                                                                                                                                                                                                                                                                                                                                                                                                                                                                                                                                                                                              response  \\\n",
       "0  {'status_code': 200, 'request_id': '3aa64c8cb5624d185595b7ff8a4803d5', 'body': {'id': 'chatcmpl-AOSFdjkfxiiWDCrBaUEL1JPqd0Ngh', 'object': 'chat.completion', 'created': 1730391833, 'model': 'ft:gpt-4o-2024-08-06:gsb-darc-team::AOAURXbh', 'choices': [{'index': 0, 'message': {'role': 'assistant', 'content': '2011', 'refusal': None}, 'logprobs': None, 'finish_reason': 'stop'}], 'usage': {'prompt_tokens': 460, 'completion_tokens': 2, 'total_tokens': 462, 'prompt_tokens_details': {'cached_tokens': 0}, 'completion_tokens_details': {'reasoning_tokens': 0}}, 'system_fingerprint': 'fp_4da243c00f'}}   \n",
       "1  {'status_code': 200, 'request_id': 'c1683f7b5846df9113abecd21f01a1f3', 'body': {'id': 'chatcmpl-AOSFhbfGg2cL3MwvRbodwCrq5VTVc', 'object': 'chat.completion', 'created': 1730391837, 'model': 'ft:gpt-4o-2024-08-06:gsb-darc-team::AOAURXbh', 'choices': [{'index': 0, 'message': {'role': 'assistant', 'content': '2011', 'refusal': None}, 'logprobs': None, 'finish_reason': 'stop'}], 'usage': {'prompt_tokens': 460, 'completion_tokens': 2, 'total_tokens': 462, 'prompt_tokens_details': {'cached_tokens': 0}, 'completion_tokens_details': {'reasoning_tokens': 0}}, 'system_fingerprint': 'fp_4da243c00f'}}   \n",
       "\n",
       "   error content Ground Truth Year  Correct Prediction  \n",
       "0    NaN    2011              2012               False  \n",
       "1    NaN    2011              2012               False  "
      ]
     },
     "execution_count": 39,
     "metadata": {},
     "output_type": "execute_result"
    }
   ],
   "source": [
    "merged_df.head(2)"
   ]
  },
  {
   "cell_type": "code",
   "execution_count": 40,
   "id": "dd541ee7-df31-47c6-af2e-abc9de03a092",
   "metadata": {},
   "outputs": [],
   "source": [
    "# Convert 'custom_id' to string type before using string methods\n",
    "merged_df['image_id'] = merged_df['custom_id'].astype(str).str.extract(r'(\\d+)').astype(int)"
   ]
  },
  {
   "cell_type": "code",
   "execution_count": 41,
   "id": "6c7c998f-fa59-4d3c-b9b1-2c12e55039e0",
   "metadata": {},
   "outputs": [
    {
     "data": {
      "text/html": [
       "<div>\n",
       "<style scoped>\n",
       "    .dataframe tbody tr th:only-of-type {\n",
       "        vertical-align: middle;\n",
       "    }\n",
       "\n",
       "    .dataframe tbody tr th {\n",
       "        vertical-align: top;\n",
       "    }\n",
       "\n",
       "    .dataframe thead th {\n",
       "        text-align: right;\n",
       "    }\n",
       "</style>\n",
       "<table border=\"1\" class=\"dataframe\">\n",
       "  <thead>\n",
       "    <tr style=\"text-align: right;\">\n",
       "      <th></th>\n",
       "      <th>index</th>\n",
       "      <th>id</th>\n",
       "      <th>custom_id</th>\n",
       "      <th>response</th>\n",
       "      <th>error</th>\n",
       "      <th>content</th>\n",
       "      <th>Ground Truth Year</th>\n",
       "      <th>Correct Prediction</th>\n",
       "      <th>image_id</th>\n",
       "    </tr>\n",
       "  </thead>\n",
       "  <tbody>\n",
       "    <tr>\n",
       "      <th>0</th>\n",
       "      <td>0</td>\n",
       "      <td>batch_req_6723b09b37c08190b32be94fcac505de</td>\n",
       "      <td>1206</td>\n",
       "      <td>{'status_code': 200, 'request_id': '3aa64c8cb5624d185595b7ff8a4803d5', 'body': {'id': 'chatcmpl-AOSFdjkfxiiWDCrBaUEL1JPqd0Ngh', 'object': 'chat.completion', 'created': 1730391833, 'model': 'ft:gpt-4o-2024-08-06:gsb-darc-team::AOAURXbh', 'choices': [{'index': 0, 'message': {'role': 'assistant', 'content': '2011', 'refusal': None}, 'logprobs': None, 'finish_reason': 'stop'}], 'usage': {'prompt_tokens': 460, 'completion_tokens': 2, 'total_tokens': 462, 'prompt_tokens_details': {'cached_tokens': 0}, 'completion_tokens_details': {'reasoning_tokens': 0}}, 'system_fingerprint': 'fp_4da243c00f'}}</td>\n",
       "      <td>NaN</td>\n",
       "      <td>2011</td>\n",
       "      <td>2012</td>\n",
       "      <td>False</td>\n",
       "      <td>1206</td>\n",
       "    </tr>\n",
       "    <tr>\n",
       "      <th>1</th>\n",
       "      <td>1</td>\n",
       "      <td>batch_req_6723b09b480c8190b0ea0db6c928c45e</td>\n",
       "      <td>6497</td>\n",
       "      <td>{'status_code': 200, 'request_id': 'c1683f7b5846df9113abecd21f01a1f3', 'body': {'id': 'chatcmpl-AOSFhbfGg2cL3MwvRbodwCrq5VTVc', 'object': 'chat.completion', 'created': 1730391837, 'model': 'ft:gpt-4o-2024-08-06:gsb-darc-team::AOAURXbh', 'choices': [{'index': 0, 'message': {'role': 'assistant', 'content': '2011', 'refusal': None}, 'logprobs': None, 'finish_reason': 'stop'}], 'usage': {'prompt_tokens': 460, 'completion_tokens': 2, 'total_tokens': 462, 'prompt_tokens_details': {'cached_tokens': 0}, 'completion_tokens_details': {'reasoning_tokens': 0}}, 'system_fingerprint': 'fp_4da243c00f'}}</td>\n",
       "      <td>NaN</td>\n",
       "      <td>2011</td>\n",
       "      <td>2012</td>\n",
       "      <td>False</td>\n",
       "      <td>6497</td>\n",
       "    </tr>\n",
       "  </tbody>\n",
       "</table>\n",
       "</div>"
      ],
      "text/plain": [
       "   index                                          id  custom_id  \\\n",
       "0      0  batch_req_6723b09b37c08190b32be94fcac505de       1206   \n",
       "1      1  batch_req_6723b09b480c8190b0ea0db6c928c45e       6497   \n",
       "\n",
       "                                                                                                                                                                                                                                                                                                                                                                                                                                                                                                                                                                                                              response  \\\n",
       "0  {'status_code': 200, 'request_id': '3aa64c8cb5624d185595b7ff8a4803d5', 'body': {'id': 'chatcmpl-AOSFdjkfxiiWDCrBaUEL1JPqd0Ngh', 'object': 'chat.completion', 'created': 1730391833, 'model': 'ft:gpt-4o-2024-08-06:gsb-darc-team::AOAURXbh', 'choices': [{'index': 0, 'message': {'role': 'assistant', 'content': '2011', 'refusal': None}, 'logprobs': None, 'finish_reason': 'stop'}], 'usage': {'prompt_tokens': 460, 'completion_tokens': 2, 'total_tokens': 462, 'prompt_tokens_details': {'cached_tokens': 0}, 'completion_tokens_details': {'reasoning_tokens': 0}}, 'system_fingerprint': 'fp_4da243c00f'}}   \n",
       "1  {'status_code': 200, 'request_id': 'c1683f7b5846df9113abecd21f01a1f3', 'body': {'id': 'chatcmpl-AOSFhbfGg2cL3MwvRbodwCrq5VTVc', 'object': 'chat.completion', 'created': 1730391837, 'model': 'ft:gpt-4o-2024-08-06:gsb-darc-team::AOAURXbh', 'choices': [{'index': 0, 'message': {'role': 'assistant', 'content': '2011', 'refusal': None}, 'logprobs': None, 'finish_reason': 'stop'}], 'usage': {'prompt_tokens': 460, 'completion_tokens': 2, 'total_tokens': 462, 'prompt_tokens_details': {'cached_tokens': 0}, 'completion_tokens_details': {'reasoning_tokens': 0}}, 'system_fingerprint': 'fp_4da243c00f'}}   \n",
       "\n",
       "   error content Ground Truth Year  Correct Prediction  image_id  \n",
       "0    NaN    2011              2012               False      1206  \n",
       "1    NaN    2011              2012               False      6497  "
      ]
     },
     "execution_count": 41,
     "metadata": {},
     "output_type": "execute_result"
    }
   ],
   "source": [
    "merged_df.head(2)"
   ]
  },
  {
   "cell_type": "code",
   "execution_count": 42,
   "id": "bd7d1e95-ba7f-4540-853e-79874ea4a44e",
   "metadata": {},
   "outputs": [],
   "source": [
    "df['image_id'] = df['image'].str.extract(r'(\\d+)').astype(int)"
   ]
  },
  {
   "cell_type": "code",
   "execution_count": 43,
   "id": "29fbf5f9-e812-407d-929d-59344caa4801",
   "metadata": {},
   "outputs": [],
   "source": [
    "final_df = pd.merge(merged_df, df[['image_id', 'Class Name']], on='image_id', how='left')"
   ]
  },
  {
   "cell_type": "code",
   "execution_count": 44,
   "id": "30b22e26-7f2a-41f5-a228-c452a9da64fd",
   "metadata": {},
   "outputs": [
    {
     "data": {
      "text/html": [
       "<div>\n",
       "<style scoped>\n",
       "    .dataframe tbody tr th:only-of-type {\n",
       "        vertical-align: middle;\n",
       "    }\n",
       "\n",
       "    .dataframe tbody tr th {\n",
       "        vertical-align: top;\n",
       "    }\n",
       "\n",
       "    .dataframe thead th {\n",
       "        text-align: right;\n",
       "    }\n",
       "</style>\n",
       "<table border=\"1\" class=\"dataframe\">\n",
       "  <thead>\n",
       "    <tr style=\"text-align: right;\">\n",
       "      <th></th>\n",
       "      <th>index</th>\n",
       "      <th>id</th>\n",
       "      <th>custom_id</th>\n",
       "      <th>response</th>\n",
       "      <th>error</th>\n",
       "      <th>content</th>\n",
       "      <th>Ground Truth Year</th>\n",
       "      <th>Correct Prediction</th>\n",
       "      <th>image_id</th>\n",
       "      <th>Class Name</th>\n",
       "    </tr>\n",
       "  </thead>\n",
       "  <tbody>\n",
       "    <tr>\n",
       "      <th>0</th>\n",
       "      <td>0</td>\n",
       "      <td>batch_req_6723b09b37c08190b32be94fcac505de</td>\n",
       "      <td>1206</td>\n",
       "      <td>{'status_code': 200, 'request_id': '3aa64c8cb5624d185595b7ff8a4803d5', 'body': {'id': 'chatcmpl-AOSFdjkfxiiWDCrBaUEL1JPqd0Ngh', 'object': 'chat.completion', 'created': 1730391833, 'model': 'ft:gpt-4o-2024-08-06:gsb-darc-team::AOAURXbh', 'choices': [{'index': 0, 'message': {'role': 'assistant', 'content': '2011', 'refusal': None}, 'logprobs': None, 'finish_reason': 'stop'}], 'usage': {'prompt_tokens': 460, 'completion_tokens': 2, 'total_tokens': 462, 'prompt_tokens_details': {'cached_tokens': 0}, 'completion_tokens_details': {'reasoning_tokens': 0}}, 'system_fingerprint': 'fp_4da243c00f'}}</td>\n",
       "      <td>NaN</td>\n",
       "      <td>2011</td>\n",
       "      <td>2012</td>\n",
       "      <td>False</td>\n",
       "      <td>1206</td>\n",
       "      <td>BMW 1 Series Coupe 2012</td>\n",
       "    </tr>\n",
       "    <tr>\n",
       "      <th>1</th>\n",
       "      <td>1</td>\n",
       "      <td>batch_req_6723b09b480c8190b0ea0db6c928c45e</td>\n",
       "      <td>6497</td>\n",
       "      <td>{'status_code': 200, 'request_id': 'c1683f7b5846df9113abecd21f01a1f3', 'body': {'id': 'chatcmpl-AOSFhbfGg2cL3MwvRbodwCrq5VTVc', 'object': 'chat.completion', 'created': 1730391837, 'model': 'ft:gpt-4o-2024-08-06:gsb-darc-team::AOAURXbh', 'choices': [{'index': 0, 'message': {'role': 'assistant', 'content': '2011', 'refusal': None}, 'logprobs': None, 'finish_reason': 'stop'}], 'usage': {'prompt_tokens': 460, 'completion_tokens': 2, 'total_tokens': 462, 'prompt_tokens_details': {'cached_tokens': 0}, 'completion_tokens_details': {'reasoning_tokens': 0}}, 'system_fingerprint': 'fp_4da243c00f'}}</td>\n",
       "      <td>NaN</td>\n",
       "      <td>2011</td>\n",
       "      <td>2012</td>\n",
       "      <td>False</td>\n",
       "      <td>6497</td>\n",
       "      <td>Honda Odyssey Minivan 2012</td>\n",
       "    </tr>\n",
       "  </tbody>\n",
       "</table>\n",
       "</div>"
      ],
      "text/plain": [
       "   index                                          id  custom_id  \\\n",
       "0      0  batch_req_6723b09b37c08190b32be94fcac505de       1206   \n",
       "1      1  batch_req_6723b09b480c8190b0ea0db6c928c45e       6497   \n",
       "\n",
       "                                                                                                                                                                                                                                                                                                                                                                                                                                                                                                                                                                                                              response  \\\n",
       "0  {'status_code': 200, 'request_id': '3aa64c8cb5624d185595b7ff8a4803d5', 'body': {'id': 'chatcmpl-AOSFdjkfxiiWDCrBaUEL1JPqd0Ngh', 'object': 'chat.completion', 'created': 1730391833, 'model': 'ft:gpt-4o-2024-08-06:gsb-darc-team::AOAURXbh', 'choices': [{'index': 0, 'message': {'role': 'assistant', 'content': '2011', 'refusal': None}, 'logprobs': None, 'finish_reason': 'stop'}], 'usage': {'prompt_tokens': 460, 'completion_tokens': 2, 'total_tokens': 462, 'prompt_tokens_details': {'cached_tokens': 0}, 'completion_tokens_details': {'reasoning_tokens': 0}}, 'system_fingerprint': 'fp_4da243c00f'}}   \n",
       "1  {'status_code': 200, 'request_id': 'c1683f7b5846df9113abecd21f01a1f3', 'body': {'id': 'chatcmpl-AOSFhbfGg2cL3MwvRbodwCrq5VTVc', 'object': 'chat.completion', 'created': 1730391837, 'model': 'ft:gpt-4o-2024-08-06:gsb-darc-team::AOAURXbh', 'choices': [{'index': 0, 'message': {'role': 'assistant', 'content': '2011', 'refusal': None}, 'logprobs': None, 'finish_reason': 'stop'}], 'usage': {'prompt_tokens': 460, 'completion_tokens': 2, 'total_tokens': 462, 'prompt_tokens_details': {'cached_tokens': 0}, 'completion_tokens_details': {'reasoning_tokens': 0}}, 'system_fingerprint': 'fp_4da243c00f'}}   \n",
       "\n",
       "   error content Ground Truth Year  Correct Prediction  image_id  \\\n",
       "0    NaN    2011              2012               False      1206   \n",
       "1    NaN    2011              2012               False      6497   \n",
       "\n",
       "                   Class Name  \n",
       "0     BMW 1 Series Coupe 2012  \n",
       "1  Honda Odyssey Minivan 2012  "
      ]
     },
     "execution_count": 44,
     "metadata": {},
     "output_type": "execute_result"
    }
   ],
   "source": [
    "final_df.head(2)"
   ]
  },
  {
   "cell_type": "code",
   "execution_count": 45,
   "id": "9bd2887c-7fa7-4795-b005-6296c8a0849d",
   "metadata": {},
   "outputs": [
    {
     "data": {
      "text/plain": [
       "Ground Truth Year\n",
       "2012    10\n",
       "2007    10\n",
       "2008    10\n",
       "2010    10\n",
       "2011    10\n",
       "1994    10\n",
       "2009    10\n",
       "1993    10\n",
       "2001    10\n",
       "2006    10\n",
       "2002    10\n",
       "1999    10\n",
       "1997    10\n",
       "1991    10\n",
       "1998    10\n",
       "2000    10\n",
       "Name: count, dtype: int64"
      ]
     },
     "execution_count": 45,
     "metadata": {},
     "output_type": "execute_result"
    }
   ],
   "source": [
    "final_df['Ground Truth Year'].value_counts()"
   ]
  },
  {
   "cell_type": "code",
   "execution_count": 46,
   "id": "e23317ad-3252-4155-898e-4887f86aee3f",
   "metadata": {},
   "outputs": [
    {
     "data": {
      "text/plain": [
       "16"
      ]
     },
     "execution_count": 46,
     "metadata": {},
     "output_type": "execute_result"
    }
   ],
   "source": [
    "len(set(final_df['Ground Truth Year']))"
   ]
  },
  {
   "cell_type": "code",
   "execution_count": 47,
   "id": "88c7acf4-1a47-4135-bdf0-86e088b9cec6",
   "metadata": {},
   "outputs": [],
   "source": [
    "# Group by 'Class Name' and 'Correct Prediction' and count the occurrences\n",
    "confusion = final_df.groupby(['Ground Truth Year', 'Correct Prediction']).size().reset_index(name='Count')"
   ]
  },
  {
   "cell_type": "code",
   "execution_count": 48,
   "id": "afbb8964-d8ca-420a-9b03-3f004f16419a",
   "metadata": {},
   "outputs": [
    {
     "name": "stdout",
     "output_type": "stream",
     "text": [
      "Correct Prediction  False  True \n",
      "Ground Truth Year               \n",
      "1991                  1.0    9.0\n",
      "1993                  0.0   10.0\n",
      "1994                  1.0    9.0\n",
      "1997                  0.0   10.0\n",
      "1998                  0.0   10.0\n",
      "1999                  0.0   10.0\n",
      "2000                  0.0   10.0\n",
      "2001                  0.0   10.0\n",
      "2002                  0.0   10.0\n",
      "2006                  0.0   10.0\n",
      "2007                  6.0    4.0\n",
      "2008                  1.0    9.0\n",
      "2009                  5.0    5.0\n",
      "2010                  3.0    7.0\n",
      "2011                  0.0   10.0\n",
      "2012                  3.0    7.0\n"
     ]
    }
   ],
   "source": [
    "# Pivot the table to have 'Correct Prediction' as columns\n",
    "confusion_pivot = confusion.pivot(index='Ground Truth Year', columns='Correct Prediction', values='Count').fillna(0)\n",
    "\n",
    "# Ensure columns are ordered as False, True\n",
    "confusion_pivot = confusion_pivot.reindex(columns=[False, True], fill_value=0)\n",
    "\n",
    "# Print the confusion matrix-like table\n",
    "print(confusion_pivot)"
   ]
  },
  {
   "cell_type": "code",
   "execution_count": 49,
   "id": "f4a1fe36-d91f-48d8-a623-ba74c7d2b9c9",
   "metadata": {},
   "outputs": [
    {
     "name": "stdout",
     "output_type": "stream",
     "text": [
      "Correct Prediction  False  True  Total  Accuracy\n",
      "Ground Truth Year                               \n",
      "1991                  1.0   9.0   10.0       0.9\n",
      "1993                  0.0  10.0   10.0       1.0\n",
      "1994                  1.0   9.0   10.0       0.9\n",
      "1997                  0.0  10.0   10.0       1.0\n",
      "1998                  0.0  10.0   10.0       1.0\n",
      "1999                  0.0  10.0   10.0       1.0\n",
      "2000                  0.0  10.0   10.0       1.0\n",
      "2001                  0.0  10.0   10.0       1.0\n",
      "2002                  0.0  10.0   10.0       1.0\n",
      "2006                  0.0  10.0   10.0       1.0\n",
      "2007                  6.0   4.0   10.0       0.4\n",
      "2008                  1.0   9.0   10.0       0.9\n",
      "2009                  5.0   5.0   10.0       0.5\n",
      "2010                  3.0   7.0   10.0       0.7\n",
      "2011                  0.0  10.0   10.0       1.0\n",
      "2012                  3.0   7.0   10.0       0.7\n"
     ]
    }
   ],
   "source": [
    "# Compute total predictions per class\n",
    "confusion_pivot['Total'] = confusion_pivot[False] + confusion_pivot[True]\n",
    "\n",
    "# Compute accuracy per class\n",
    "confusion_pivot['Accuracy'] = confusion_pivot[True] / confusion_pivot['Total']\n",
    "\n",
    "# Display the confusion matrix with accuracy\n",
    "print(confusion_pivot[[False, True, 'Total', 'Accuracy']])"
   ]
  },
  {
   "cell_type": "markdown",
   "id": "66206e08-b0c2-49d4-a628-23aede1152fa",
   "metadata": {},
   "source": [
    "## Plot Baseline Model Accuracy Per Year"
   ]
  },
  {
   "cell_type": "code",
   "execution_count": 50,
   "id": "92f8f2e8-95ab-465d-84cd-42c3d021e15c",
   "metadata": {},
   "outputs": [
    {
     "data": {
      "image/png": "[encoded data removed]",
      "text/plain": [
       "<Figure size 500x500 with 1 Axes>"
      ]
     },
     "metadata": {},
     "output_type": "display_data"
    }
   ],
   "source": [
    "# Reset index to make 'Class Name' a column\n",
    "confusion_pivot_reset = confusion_pivot.reset_index()\n",
    "\n",
    "# Plot per-class accuracy\n",
    "plt.figure(figsize=(5, 5))\n",
    "plt.bar(confusion_pivot_reset['Ground Truth Year'], confusion_pivot_reset['Accuracy'])\n",
    "plt.xticks(rotation=45, ha='right')\n",
    "plt.ylabel('Accuracy')\n",
    "plt.title('Per-Year Accuracy Fine-Tuned Model')\n",
    "plt.tight_layout()\n",
    "plt.show()"
   ]
  },
  {
   "cell_type": "code",
   "execution_count": null,
   "id": "f7470dd5-81e2-4d8c-9756-c80ba9927413",
   "metadata": {},
   "outputs": [],
   "source": []
  }
 ],
 "metadata": {
  "kernelspec": {
   "display_name": "image-ai",
   "language": "python",
   "name": "image-ai"
  },
  "language_info": {
   "codemirror_mode": {
    "name": "ipython",
    "version": 3
   },
   "file_extension": ".py",
   "mimetype": "text/x-python",
   "name": "python",
   "nbconvert_exporter": "python",
   "pygments_lexer": "ipython3",
   "version": "3.10.12"
  }
 },
 "nbformat": 4,
 "nbformat_minor": 5
}
